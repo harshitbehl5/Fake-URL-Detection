{
 "cells": [
  {
   "cell_type": "code",
   "execution_count": 294,
   "metadata": {
    "_cell_guid": "b1076dfc-b9ad-4769-8c92-a6c4dae69d19",
    "_uuid": "8f2839f25d086af736a60e9eeb907d3b93b6e0e5"
   },
   "outputs": [],
   "source": [
    "import pandas as pd\n",
    "import itertools\n",
    "from sklearn.metrics import classification_report,confusion_matrix, accuracy_score\n",
    "from sklearn.model_selection import train_test_split\n",
    "import pandas as pd\n",
    "import numpy as np\n",
    "import matplotlib.pyplot as plt\n",
    "import xgboost as xgb\n",
    "from lightgbm import LGBMClassifier\n",
    "import os\n",
    "import seaborn as sns\n",
    "from wordcloud import WordCloud"
   ]
  },
  {
   "cell_type": "code",
   "execution_count": 295,
   "metadata": {
    "_cell_guid": "79c7e3d0-c299-4dcb-8224-4455121ee9b0",
    "_uuid": "d629ff2d2480ee46fbb7e2d37f6b5fab8052498a"
   },
   "outputs": [
    {
     "name": "stdout",
     "output_type": "stream",
     "text": [
      "(651191, 2)\n"
     ]
    },
    {
     "data": {
      "text/html": [
       "<div>\n",
       "<style scoped>\n",
       "    .dataframe tbody tr th:only-of-type {\n",
       "        vertical-align: middle;\n",
       "    }\n",
       "\n",
       "    .dataframe tbody tr th {\n",
       "        vertical-align: top;\n",
       "    }\n",
       "\n",
       "    .dataframe thead th {\n",
       "        text-align: right;\n",
       "    }\n",
       "</style>\n",
       "<table border=\"1\" class=\"dataframe\">\n",
       "  <thead>\n",
       "    <tr style=\"text-align: right;\">\n",
       "      <th></th>\n",
       "      <th>url</th>\n",
       "      <th>type</th>\n",
       "    </tr>\n",
       "  </thead>\n",
       "  <tbody>\n",
       "    <tr>\n",
       "      <th>0</th>\n",
       "      <td>br-icloud.com.br</td>\n",
       "      <td>phishing</td>\n",
       "    </tr>\n",
       "    <tr>\n",
       "      <th>1</th>\n",
       "      <td>mp3raid.com/music/krizz_kaliko.html</td>\n",
       "      <td>benign</td>\n",
       "    </tr>\n",
       "    <tr>\n",
       "      <th>2</th>\n",
       "      <td>bopsecrets.org/rexroth/cr/1.htm</td>\n",
       "      <td>benign</td>\n",
       "    </tr>\n",
       "    <tr>\n",
       "      <th>3</th>\n",
       "      <td>http://www.garage-pirenne.be/index.php?option=...</td>\n",
       "      <td>defacement</td>\n",
       "    </tr>\n",
       "    <tr>\n",
       "      <th>4</th>\n",
       "      <td>http://adventure-nicaragua.net/index.php?optio...</td>\n",
       "      <td>defacement</td>\n",
       "    </tr>\n",
       "  </tbody>\n",
       "</table>\n",
       "</div>"
      ],
      "text/plain": [
       "                                                 url        type\n",
       "0                                   br-icloud.com.br    phishing\n",
       "1                mp3raid.com/music/krizz_kaliko.html      benign\n",
       "2                    bopsecrets.org/rexroth/cr/1.htm      benign\n",
       "3  http://www.garage-pirenne.be/index.php?option=...  defacement\n",
       "4  http://adventure-nicaragua.net/index.php?optio...  defacement"
      ]
     },
     "execution_count": 295,
     "metadata": {},
     "output_type": "execute_result"
    }
   ],
   "source": [
    "df=pd.read_csv('urldataset.csv')\n",
    "\n",
    "print(df.shape)\n",
    "df.head()"
   ]
  },
  {
   "cell_type": "code",
   "execution_count": 296,
   "metadata": {
    "scrolled": false
   },
   "outputs": [
    {
     "data": {
      "text/plain": [
       "benign        428103\n",
       "defacement     96457\n",
       "phishing       94111\n",
       "malware        32520\n",
       "Name: type, dtype: int64"
      ]
     },
     "execution_count": 296,
     "metadata": {},
     "output_type": "execute_result"
    }
   ],
   "source": [
    "df.type.value_counts()"
   ]
  },
  {
   "cell_type": "markdown",
   "metadata": {},
   "source": [
    "## Feature Engineering"
   ]
  },
  {
   "cell_type": "code",
   "execution_count": 297,
   "metadata": {},
   "outputs": [],
   "source": [
    "import re\n",
    "#Use of IP or not in domain\n",
    "def having_ip_address(url):\n",
    "    match = re.search(\n",
    "        '(([01]?\\\\d\\\\d?|2[0-4]\\\\d|25[0-5])\\\\.([01]?\\\\d\\\\d?|2[0-4]\\\\d|25[0-5])\\\\.([01]?\\\\d\\\\d?|2[0-4]\\\\d|25[0-5])\\\\.'\n",
    "        '([01]?\\\\d\\\\d?|2[0-4]\\\\d|25[0-5])\\\\/)|'  # IPv4\n",
    "        '((0x[0-9a-fA-F]{1,2})\\\\.(0x[0-9a-fA-F]{1,2})\\\\.(0x[0-9a-fA-F]{1,2})\\\\.(0x[0-9a-fA-F]{1,2})\\\\/)' # IPv4 in hexadecimal\n",
    "        '(?:[a-fA-F0-9]{1,4}:){7}[a-fA-F0-9]{1,4}', url)  # Ipv6\n",
    "    if match:\n",
    "        # print match.group()\n",
    "        return 1\n",
    "    else:\n",
    "        # print 'No matching pattern found'\n",
    "        return 0\n",
    "df['use_of_ip'] = df['url'].apply(lambda i: having_ip_address(i))"
   ]
  },
  {
   "cell_type": "code",
   "execution_count": 298,
   "metadata": {},
   "outputs": [],
   "source": [
    "from urllib.parse import urlparse\n",
    "\n",
    "def abnormal_url(url):\n",
    "    hostname = urlparse(url).hostname\n",
    "    hostname = str(hostname)\n",
    "    match = re.search(hostname, url)\n",
    "    if match:\n",
    "        # print match.group()\n",
    "        return 1\n",
    "    else:\n",
    "        # print 'No matching pattern found'\n",
    "        return 0\n",
    "\n",
    "\n",
    "df['abnormal_url'] = df['url'].apply(lambda i: abnormal_url(i))"
   ]
  },
  {
   "cell_type": "code",
   "execution_count": 299,
   "metadata": {},
   "outputs": [],
   "source": [
    "from googlesearch import search"
   ]
  },
  {
   "cell_type": "code",
   "execution_count": 300,
   "metadata": {},
   "outputs": [],
   "source": [
    "def google_index(url):\n",
    "    site = search(url, 5)\n",
    "    return 1 if site else 0\n",
    "df['google_index'] = df['url'].apply(lambda i: google_index(i))"
   ]
  },
  {
   "cell_type": "code",
   "execution_count": 301,
   "metadata": {},
   "outputs": [
    {
     "data": {
      "text/html": [
       "<div>\n",
       "<style scoped>\n",
       "    .dataframe tbody tr th:only-of-type {\n",
       "        vertical-align: middle;\n",
       "    }\n",
       "\n",
       "    .dataframe tbody tr th {\n",
       "        vertical-align: top;\n",
       "    }\n",
       "\n",
       "    .dataframe thead th {\n",
       "        text-align: right;\n",
       "    }\n",
       "</style>\n",
       "<table border=\"1\" class=\"dataframe\">\n",
       "  <thead>\n",
       "    <tr style=\"text-align: right;\">\n",
       "      <th></th>\n",
       "      <th>url</th>\n",
       "      <th>type</th>\n",
       "      <th>use_of_ip</th>\n",
       "      <th>abnormal_url</th>\n",
       "      <th>google_index</th>\n",
       "      <th>count.</th>\n",
       "    </tr>\n",
       "  </thead>\n",
       "  <tbody>\n",
       "    <tr>\n",
       "      <th>0</th>\n",
       "      <td>br-icloud.com.br</td>\n",
       "      <td>phishing</td>\n",
       "      <td>0</td>\n",
       "      <td>0</td>\n",
       "      <td>1</td>\n",
       "      <td>2</td>\n",
       "    </tr>\n",
       "    <tr>\n",
       "      <th>1</th>\n",
       "      <td>mp3raid.com/music/krizz_kaliko.html</td>\n",
       "      <td>benign</td>\n",
       "      <td>0</td>\n",
       "      <td>0</td>\n",
       "      <td>1</td>\n",
       "      <td>2</td>\n",
       "    </tr>\n",
       "    <tr>\n",
       "      <th>2</th>\n",
       "      <td>bopsecrets.org/rexroth/cr/1.htm</td>\n",
       "      <td>benign</td>\n",
       "      <td>0</td>\n",
       "      <td>0</td>\n",
       "      <td>1</td>\n",
       "      <td>2</td>\n",
       "    </tr>\n",
       "    <tr>\n",
       "      <th>3</th>\n",
       "      <td>http://www.garage-pirenne.be/index.php?option=...</td>\n",
       "      <td>defacement</td>\n",
       "      <td>0</td>\n",
       "      <td>1</td>\n",
       "      <td>1</td>\n",
       "      <td>3</td>\n",
       "    </tr>\n",
       "    <tr>\n",
       "      <th>4</th>\n",
       "      <td>http://adventure-nicaragua.net/index.php?optio...</td>\n",
       "      <td>defacement</td>\n",
       "      <td>0</td>\n",
       "      <td>1</td>\n",
       "      <td>1</td>\n",
       "      <td>2</td>\n",
       "    </tr>\n",
       "  </tbody>\n",
       "</table>\n",
       "</div>"
      ],
      "text/plain": [
       "                                                 url        type  use_of_ip  \\\n",
       "0                                   br-icloud.com.br    phishing          0   \n",
       "1                mp3raid.com/music/krizz_kaliko.html      benign          0   \n",
       "2                    bopsecrets.org/rexroth/cr/1.htm      benign          0   \n",
       "3  http://www.garage-pirenne.be/index.php?option=...  defacement          0   \n",
       "4  http://adventure-nicaragua.net/index.php?optio...  defacement          0   \n",
       "\n",
       "   abnormal_url  google_index  count.  \n",
       "0             0             1       2  \n",
       "1             0             1       2  \n",
       "2             0             1       2  \n",
       "3             1             1       3  \n",
       "4             1             1       2  "
      ]
     },
     "execution_count": 301,
     "metadata": {},
     "output_type": "execute_result"
    }
   ],
   "source": [
    "def count_dot(url):\n",
    "    count_dot = url.count('.')\n",
    "    return count_dot\n",
    "\n",
    "df['count.'] = df['url'].apply(lambda i: count_dot(i))\n",
    "df.head()"
   ]
  },
  {
   "cell_type": "code",
   "execution_count": 302,
   "metadata": {},
   "outputs": [],
   "source": [
    "def count_www(url):\n",
    "    url.count('www')\n",
    "    return url.count('www')\n",
    "\n",
    "df['count-www'] = df['url'].apply(lambda i: count_www(i))\n",
    "\n",
    "def count_atrate(url):\n",
    "     \n",
    "    return url.count('@')\n",
    "\n",
    "df['count@'] = df['url'].apply(lambda i: count_atrate(i))\n",
    "\n",
    "\n",
    "def no_of_dir(url):\n",
    "    urldir = urlparse(url).path\n",
    "    return urldir.count('/')\n",
    "\n",
    "df['count_dir'] = df['url'].apply(lambda i: no_of_dir(i))\n",
    "\n",
    "def no_of_embed(url):\n",
    "    urldir = urlparse(url).path\n",
    "    return urldir.count('//')\n",
    "\n",
    "df['count_embed_domian'] = df['url'].apply(lambda i: no_of_embed(i))\n",
    "\n",
    "\n",
    "def shortening_service(url):\n",
    "    match = re.search('bit\\.ly|goo\\.gl|shorte\\.st|go2l\\.ink|x\\.co|ow\\.ly|t\\.co|tinyurl|tr\\.im|is\\.gd|cli\\.gs|'\n",
    "                      'yfrog\\.com|migre\\.me|ff\\.im|tiny\\.cc|url4\\.eu|twit\\.ac|su\\.pr|twurl\\.nl|snipurl\\.com|'\n",
    "                      'short\\.to|BudURL\\.com|ping\\.fm|post\\.ly|Just\\.as|bkite\\.com|snipr\\.com|fic\\.kr|loopt\\.us|'\n",
    "                      'doiop\\.com|short\\.ie|kl\\.am|wp\\.me|rubyurl\\.com|om\\.ly|to\\.ly|bit\\.do|t\\.co|lnkd\\.in|'\n",
    "                      'db\\.tt|qr\\.ae|adf\\.ly|goo\\.gl|bitly\\.com|cur\\.lv|tinyurl\\.com|ow\\.ly|bit\\.ly|ity\\.im|'\n",
    "                      'q\\.gs|is\\.gd|po\\.st|bc\\.vc|twitthis\\.com|u\\.to|j\\.mp|buzurl\\.com|cutt\\.us|u\\.bb|yourls\\.org|'\n",
    "                      'x\\.co|prettylinkpro\\.com|scrnch\\.me|filoops\\.info|vzturl\\.com|qr\\.net|1url\\.com|tweez\\.me|v\\.gd|'\n",
    "                      'tr\\.im|link\\.zip\\.net',\n",
    "                      url)\n",
    "    if match:\n",
    "        return 1\n",
    "    else:\n",
    "        return 0\n",
    "    \n",
    "    \n",
    "df['short_url'] = df['url'].apply(lambda i: shortening_service(i))"
   ]
  },
  {
   "cell_type": "code",
   "execution_count": 303,
   "metadata": {},
   "outputs": [],
   "source": [
    "def count_https(url):\n",
    "    return url.count('https')\n",
    "\n",
    "df['count-https'] = df['url'].apply(lambda i : count_https(i))\n",
    "\n",
    "def count_http(url):\n",
    "    return url.count('http')\n",
    "\n",
    "df['count-http'] = df['url'].apply(lambda i : count_http(i))"
   ]
  },
  {
   "cell_type": "code",
   "execution_count": 304,
   "metadata": {},
   "outputs": [
    {
     "data": {
      "text/html": [
       "<div>\n",
       "<style scoped>\n",
       "    .dataframe tbody tr th:only-of-type {\n",
       "        vertical-align: middle;\n",
       "    }\n",
       "\n",
       "    .dataframe tbody tr th {\n",
       "        vertical-align: top;\n",
       "    }\n",
       "\n",
       "    .dataframe thead th {\n",
       "        text-align: right;\n",
       "    }\n",
       "</style>\n",
       "<table border=\"1\" class=\"dataframe\">\n",
       "  <thead>\n",
       "    <tr style=\"text-align: right;\">\n",
       "      <th></th>\n",
       "      <th>url</th>\n",
       "      <th>type</th>\n",
       "      <th>use_of_ip</th>\n",
       "      <th>abnormal_url</th>\n",
       "      <th>google_index</th>\n",
       "      <th>count.</th>\n",
       "      <th>count-www</th>\n",
       "      <th>count@</th>\n",
       "      <th>count_dir</th>\n",
       "      <th>count_embed_domian</th>\n",
       "      <th>...</th>\n",
       "      <th>count-http</th>\n",
       "      <th>count%</th>\n",
       "      <th>count?</th>\n",
       "      <th>count-</th>\n",
       "      <th>count=</th>\n",
       "      <th>url_length</th>\n",
       "      <th>hostname_length</th>\n",
       "      <th>sus_url</th>\n",
       "      <th>count-digits</th>\n",
       "      <th>count-letters</th>\n",
       "    </tr>\n",
       "  </thead>\n",
       "  <tbody>\n",
       "    <tr>\n",
       "      <th>0</th>\n",
       "      <td>br-icloud.com.br</td>\n",
       "      <td>phishing</td>\n",
       "      <td>0</td>\n",
       "      <td>0</td>\n",
       "      <td>1</td>\n",
       "      <td>2</td>\n",
       "      <td>0</td>\n",
       "      <td>0</td>\n",
       "      <td>0</td>\n",
       "      <td>0</td>\n",
       "      <td>...</td>\n",
       "      <td>0</td>\n",
       "      <td>0</td>\n",
       "      <td>0</td>\n",
       "      <td>1</td>\n",
       "      <td>0</td>\n",
       "      <td>16</td>\n",
       "      <td>0</td>\n",
       "      <td>0</td>\n",
       "      <td>0</td>\n",
       "      <td>13</td>\n",
       "    </tr>\n",
       "    <tr>\n",
       "      <th>1</th>\n",
       "      <td>mp3raid.com/music/krizz_kaliko.html</td>\n",
       "      <td>benign</td>\n",
       "      <td>0</td>\n",
       "      <td>0</td>\n",
       "      <td>1</td>\n",
       "      <td>2</td>\n",
       "      <td>0</td>\n",
       "      <td>0</td>\n",
       "      <td>2</td>\n",
       "      <td>0</td>\n",
       "      <td>...</td>\n",
       "      <td>0</td>\n",
       "      <td>0</td>\n",
       "      <td>0</td>\n",
       "      <td>0</td>\n",
       "      <td>0</td>\n",
       "      <td>35</td>\n",
       "      <td>0</td>\n",
       "      <td>0</td>\n",
       "      <td>1</td>\n",
       "      <td>29</td>\n",
       "    </tr>\n",
       "    <tr>\n",
       "      <th>2</th>\n",
       "      <td>bopsecrets.org/rexroth/cr/1.htm</td>\n",
       "      <td>benign</td>\n",
       "      <td>0</td>\n",
       "      <td>0</td>\n",
       "      <td>1</td>\n",
       "      <td>2</td>\n",
       "      <td>0</td>\n",
       "      <td>0</td>\n",
       "      <td>3</td>\n",
       "      <td>0</td>\n",
       "      <td>...</td>\n",
       "      <td>0</td>\n",
       "      <td>0</td>\n",
       "      <td>0</td>\n",
       "      <td>0</td>\n",
       "      <td>0</td>\n",
       "      <td>31</td>\n",
       "      <td>0</td>\n",
       "      <td>0</td>\n",
       "      <td>1</td>\n",
       "      <td>25</td>\n",
       "    </tr>\n",
       "    <tr>\n",
       "      <th>3</th>\n",
       "      <td>http://www.garage-pirenne.be/index.php?option=...</td>\n",
       "      <td>defacement</td>\n",
       "      <td>0</td>\n",
       "      <td>1</td>\n",
       "      <td>1</td>\n",
       "      <td>3</td>\n",
       "      <td>1</td>\n",
       "      <td>0</td>\n",
       "      <td>1</td>\n",
       "      <td>0</td>\n",
       "      <td>...</td>\n",
       "      <td>1</td>\n",
       "      <td>0</td>\n",
       "      <td>1</td>\n",
       "      <td>1</td>\n",
       "      <td>4</td>\n",
       "      <td>88</td>\n",
       "      <td>21</td>\n",
       "      <td>0</td>\n",
       "      <td>7</td>\n",
       "      <td>63</td>\n",
       "    </tr>\n",
       "    <tr>\n",
       "      <th>4</th>\n",
       "      <td>http://adventure-nicaragua.net/index.php?optio...</td>\n",
       "      <td>defacement</td>\n",
       "      <td>0</td>\n",
       "      <td>1</td>\n",
       "      <td>1</td>\n",
       "      <td>2</td>\n",
       "      <td>0</td>\n",
       "      <td>0</td>\n",
       "      <td>1</td>\n",
       "      <td>0</td>\n",
       "      <td>...</td>\n",
       "      <td>1</td>\n",
       "      <td>0</td>\n",
       "      <td>1</td>\n",
       "      <td>1</td>\n",
       "      <td>3</td>\n",
       "      <td>235</td>\n",
       "      <td>23</td>\n",
       "      <td>0</td>\n",
       "      <td>22</td>\n",
       "      <td>199</td>\n",
       "    </tr>\n",
       "  </tbody>\n",
       "</table>\n",
       "<p>5 rows × 22 columns</p>\n",
       "</div>"
      ],
      "text/plain": [
       "                                                 url        type  use_of_ip  \\\n",
       "0                                   br-icloud.com.br    phishing          0   \n",
       "1                mp3raid.com/music/krizz_kaliko.html      benign          0   \n",
       "2                    bopsecrets.org/rexroth/cr/1.htm      benign          0   \n",
       "3  http://www.garage-pirenne.be/index.php?option=...  defacement          0   \n",
       "4  http://adventure-nicaragua.net/index.php?optio...  defacement          0   \n",
       "\n",
       "   abnormal_url  google_index  count.  count-www  count@  count_dir  \\\n",
       "0             0             1       2          0       0          0   \n",
       "1             0             1       2          0       0          2   \n",
       "2             0             1       2          0       0          3   \n",
       "3             1             1       3          1       0          1   \n",
       "4             1             1       2          0       0          1   \n",
       "\n",
       "   count_embed_domian  ...  count-http  count%  count?  count-  count=  \\\n",
       "0                   0  ...           0       0       0       1       0   \n",
       "1                   0  ...           0       0       0       0       0   \n",
       "2                   0  ...           0       0       0       0       0   \n",
       "3                   0  ...           1       0       1       1       4   \n",
       "4                   0  ...           1       0       1       1       3   \n",
       "\n",
       "   url_length  hostname_length  sus_url  count-digits  count-letters  \n",
       "0          16                0        0             0             13  \n",
       "1          35                0        0             1             29  \n",
       "2          31                0        0             1             25  \n",
       "3          88               21        0             7             63  \n",
       "4         235               23        0            22            199  \n",
       "\n",
       "[5 rows x 22 columns]"
      ]
     },
     "execution_count": 304,
     "metadata": {},
     "output_type": "execute_result"
    }
   ],
   "source": [
    "def count_per(url):\n",
    "    return url.count('%')\n",
    "\n",
    "df['count%'] = df['url'].apply(lambda i : count_per(i))\n",
    "\n",
    "def count_ques(url):\n",
    "    return url.count('?')\n",
    "\n",
    "df['count?'] = df['url'].apply(lambda i: count_ques(i))\n",
    "\n",
    "def count_hyphen(url):\n",
    "    return url.count('-')\n",
    "\n",
    "df['count-'] = df['url'].apply(lambda i: count_hyphen(i))\n",
    "\n",
    "def count_equal(url):\n",
    "    return url.count('=')\n",
    "\n",
    "df['count='] = df['url'].apply(lambda i: count_equal(i))\n",
    "\n",
    "def url_length(url):\n",
    "    return len(str(url))\n",
    "\n",
    "\n",
    "#Length of URL\n",
    "df['url_length'] = df['url'].apply(lambda i: url_length(i))\n",
    "#Hostname Length\n",
    "\n",
    "def hostname_length(url):\n",
    "    return len(urlparse(url).netloc)\n",
    "\n",
    "df['hostname_length'] = df['url'].apply(lambda i: hostname_length(i))\n",
    "\n",
    "df.head()\n",
    "\n",
    "def suspicious_words(url):\n",
    "    match = re.search('PayPal|login|signin|bank|account|update|free|lucky|service|bonus|ebayisapi|webscr',\n",
    "                      url)\n",
    "    if match:\n",
    "        return 1\n",
    "    else:\n",
    "        return 0\n",
    "df['sus_url'] = df['url'].apply(lambda i: suspicious_words(i))\n",
    "\n",
    "\n",
    "def digit_count(url):\n",
    "    digits = 0\n",
    "    for i in url:\n",
    "        if i.isnumeric():\n",
    "            digits = digits + 1\n",
    "    return digits\n",
    "\n",
    "\n",
    "df['count-digits']= df['url'].apply(lambda i: digit_count(i))\n",
    "\n",
    "\n",
    "def letter_count(url):\n",
    "    letters = 0\n",
    "    for i in url:\n",
    "        if i.isalpha():\n",
    "            letters = letters + 1\n",
    "    return letters\n",
    "\n",
    "\n",
    "df['count-letters']= df['url'].apply(lambda i: letter_count(i))\n",
    "\n",
    "df.head()"
   ]
  },
  {
   "cell_type": "code",
   "execution_count": 305,
   "metadata": {},
   "outputs": [],
   "source": [
    "#!pip install tld"
   ]
  },
  {
   "cell_type": "code",
   "execution_count": 306,
   "metadata": {},
   "outputs": [],
   "source": [
    "#Importing dependencies\n",
    "from urllib.parse import urlparse\n",
    "from tld import get_tld\n",
    "import os.path\n",
    "\n",
    "#First Directory Length\n",
    "def fd_length(url):\n",
    "    urlpath= urlparse(url).path\n",
    "    try:\n",
    "        return len(urlpath.split('/')[1])\n",
    "    except:\n",
    "        return 0\n",
    "\n",
    "df['fd_length'] = df['url'].apply(lambda i: fd_length(i))\n",
    "\n",
    "#Length of Top Level Domain\n",
    "df['tld'] = df['url'].apply(lambda i: get_tld(i,fail_silently=True))\n",
    "\n",
    "\n",
    "def tld_length(tld):\n",
    "    try:\n",
    "        return len(tld)\n",
    "    except:\n",
    "        return -1\n",
    "\n",
    "df['tld_length'] = df['tld'].apply(lambda i: tld_length(i))"
   ]
  },
  {
   "cell_type": "code",
   "execution_count": 307,
   "metadata": {},
   "outputs": [
    {
     "name": "stderr",
     "output_type": "stream",
     "text": [
      "C:\\Users\\hhima\\AppData\\Local\\Temp\\ipykernel_10044\\2551734815.py:1: FutureWarning: In a future version of pandas all arguments of DataFrame.drop except for the argument 'labels' will be keyword-only.\n",
      "  df = df.drop(\"tld\",1)\n"
     ]
    }
   ],
   "source": [
    "df = df.drop(\"tld\",1)"
   ]
  },
  {
   "cell_type": "code",
   "execution_count": 308,
   "metadata": {},
   "outputs": [
    {
     "data": {
      "text/plain": [
       "Index(['url', 'type', 'use_of_ip', 'abnormal_url', 'google_index', 'count.',\n",
       "       'count-www', 'count@', 'count_dir', 'count_embed_domian', 'short_url',\n",
       "       'count-https', 'count-http', 'count%', 'count?', 'count-', 'count=',\n",
       "       'url_length', 'hostname_length', 'sus_url', 'count-digits',\n",
       "       'count-letters', 'fd_length', 'tld_length'],\n",
       "      dtype='object')"
      ]
     },
     "execution_count": 308,
     "metadata": {},
     "output_type": "execute_result"
    }
   ],
   "source": [
    "df.columns"
   ]
  },
  {
   "cell_type": "code",
   "execution_count": 309,
   "metadata": {},
   "outputs": [
    {
     "data": {
      "text/plain": [
       "benign        428103\n",
       "defacement     96457\n",
       "phishing       94111\n",
       "malware        32520\n",
       "Name: type, dtype: int64"
      ]
     },
     "execution_count": 309,
     "metadata": {},
     "output_type": "execute_result"
    }
   ],
   "source": [
    "df['type'].value_counts()"
   ]
  },
  {
   "cell_type": "markdown",
   "metadata": {},
   "source": [
    "## EDA"
   ]
  },
  {
   "cell_type": "markdown",
   "metadata": {},
   "source": [
    "## 1. Distribution of use_of_ip"
   ]
  },
  {
   "cell_type": "code",
   "execution_count": 310,
   "metadata": {
    "scrolled": true
   },
   "outputs": [
    {
     "data": {
      "image/png": "[encoded data removed]",
      "text/plain": [
       "<Figure size 432x288 with 1 Axes>"
      ]
     },
     "metadata": {},
     "output_type": "display_data"
    }
   ],
   "source": [
    "import seaborn as sns\n",
    "sns.set(style=\"darkgrid\")\n",
    "ax = sns.countplot(y=\"type\", data=df,hue=\"use_of_ip\")\n"
   ]
  },
  {
   "cell_type": "markdown",
   "metadata": {},
   "source": [
    "## 2. Distribution of abnormal url"
   ]
  },
  {
   "cell_type": "code",
   "execution_count": 311,
   "metadata": {},
   "outputs": [
    {
     "data": {
      "image/png": "[encoded data removed]",
      "text/plain": [
       "<Figure size 432x288 with 1 Axes>"
      ]
     },
     "metadata": {},
     "output_type": "display_data"
    }
   ],
   "source": [
    "sns.set(style=\"darkgrid\")\n",
    "ax = sns.countplot(y=\"type\", data=df,hue=\"abnormal_url\")\n"
   ]
  },
  {
   "cell_type": "markdown",
   "metadata": {},
   "source": [
    "## 3. Distribution of Google Index"
   ]
  },
  {
   "cell_type": "code",
   "execution_count": 312,
   "metadata": {},
   "outputs": [
    {
     "data": {
      "image/png": "[encoded data removed]",
      "text/plain": [
       "<Figure size 432x288 with 1 Axes>"
      ]
     },
     "metadata": {},
     "output_type": "display_data"
    }
   ],
   "source": [
    "sns.set(style=\"darkgrid\")\n",
    "ax = sns.countplot(y=\"type\", data=df,hue=\"google_index\")"
   ]
  },
  {
   "cell_type": "markdown",
   "metadata": {},
   "source": [
    "## 4. Distribution of Shorl URL"
   ]
  },
  {
   "cell_type": "code",
   "execution_count": 313,
   "metadata": {},
   "outputs": [
    {
     "data": {
      "image/png": "[encoded data removed]",
      "text/plain": [
       "<Figure size 432x288 with 1 Axes>"
      ]
     },
     "metadata": {},
     "output_type": "display_data"
    }
   ],
   "source": [
    "sns.set(style=\"darkgrid\")\n",
    "ax = sns.countplot(y=\"type\", data=df,hue=\"short_url\")"
   ]
  },
  {
   "cell_type": "markdown",
   "metadata": {},
   "source": [
    "## 5. Distribution of Suspicious URL"
   ]
  },
  {
   "cell_type": "code",
   "execution_count": 314,
   "metadata": {},
   "outputs": [
    {
     "data": {
      "image/png": "[encoded data removed]",
      "text/plain": [
       "<Figure size 432x288 with 1 Axes>"
      ]
     },
     "metadata": {},
     "output_type": "display_data"
    }
   ],
   "source": [
    "sns.set(style=\"darkgrid\")\n",
    "ax = sns.countplot(y=\"type\", data=df,hue=\"sus_url\")"
   ]
  },
  {
   "cell_type": "markdown",
   "metadata": {},
   "source": [
    "## 6. Distribution of count of [.] dot"
   ]
  },
  {
   "cell_type": "code",
   "execution_count": 315,
   "metadata": {},
   "outputs": [
    {
     "data": {
      "image/png": "[encoded data removed]",
      "text/plain": [
       "<Figure size 360x360 with 1 Axes>"
      ]
     },
     "metadata": {},
     "output_type": "display_data"
    }
   ],
   "source": [
    "sns.set(style=\"darkgrid\")\n",
    "ax = sns.catplot(x=\"type\", y=\"count.\", kind=\"box\", data=df)"
   ]
  },
  {
   "cell_type": "markdown",
   "metadata": {},
   "source": [
    "## 7. Distribution of count-www"
   ]
  },
  {
   "cell_type": "code",
   "execution_count": 316,
   "metadata": {
    "scrolled": true
   },
   "outputs": [
    {
     "data": {
      "image/png": "[encoded data removed]",
      "text/plain": [
       "<Figure size 360x360 with 1 Axes>"
      ]
     },
     "metadata": {},
     "output_type": "display_data"
    }
   ],
   "source": [
    "sns.set(style=\"darkgrid\")\n",
    "ax = sns.catplot(x=\"type\", y=\"count-www\", kind=\"box\", data=df)"
   ]
  },
  {
   "cell_type": "markdown",
   "metadata": {},
   "source": [
    "## 8. Distribution of count@"
   ]
  },
  {
   "cell_type": "code",
   "execution_count": 317,
   "metadata": {},
   "outputs": [
    {
     "data": {
      "image/png": "[encoded data removed]",
      "text/plain": [
       "<Figure size 360x360 with 1 Axes>"
      ]
     },
     "metadata": {},
     "output_type": "display_data"
    }
   ],
   "source": [
    "sns.set(style=\"darkgrid\")\n",
    "ax = sns.catplot(x=\"type\", y=\"count@\", kind=\"box\", data=df)"
   ]
  },
  {
   "cell_type": "markdown",
   "metadata": {},
   "source": [
    "## 9. Distribution of count_dir"
   ]
  },
  {
   "cell_type": "code",
   "execution_count": 318,
   "metadata": {},
   "outputs": [
    {
     "data": {
      "image/png": "[encoded data removed]",
      "text/plain": [
       "<Figure size 360x360 with 1 Axes>"
      ]
     },
     "metadata": {},
     "output_type": "display_data"
    }
   ],
   "source": [
    "sns.set(style=\"darkgrid\")\n",
    "ax = sns.catplot(x=\"type\", y=\"count_dir\", kind=\"box\", data=df)"
   ]
  },
  {
   "cell_type": "markdown",
   "metadata": {},
   "source": [
    "## 10. Distribution of hostname length"
   ]
  },
  {
   "cell_type": "code",
   "execution_count": 319,
   "metadata": {
    "scrolled": true
   },
   "outputs": [
    {
     "data": {
      "image/png": "[encoded data removed]",
      "text/plain": [
       "<Figure size 360x360 with 1 Axes>"
      ]
     },
     "metadata": {},
     "output_type": "display_data"
    }
   ],
   "source": [
    "sns.set(style=\"darkgrid\")\n",
    "ax = sns.catplot(x=\"type\", y=\"hostname_length\", kind=\"box\", data=df)"
   ]
  },
  {
   "cell_type": "markdown",
   "metadata": {},
   "source": [
    "## 11. Distribution of first directory length"
   ]
  },
  {
   "cell_type": "code",
   "execution_count": 320,
   "metadata": {},
   "outputs": [
    {
     "data": {
      "image/png": "[encoded data removed]",
      "text/plain": [
       "<Figure size 360x360 with 1 Axes>"
      ]
     },
     "metadata": {},
     "output_type": "display_data"
    }
   ],
   "source": [
    "sns.set(style=\"darkgrid\")\n",
    "ax = sns.catplot(x=\"type\", y=\"fd_length\", kind=\"box\", data=df)"
   ]
  },
  {
   "cell_type": "markdown",
   "metadata": {},
   "source": [
    "## 12. Distribution of top-level domain length"
   ]
  },
  {
   "cell_type": "code",
   "execution_count": 321,
   "metadata": {},
   "outputs": [
    {
     "data": {
      "image/png": "[encoded data removed]",
      "text/plain": [
       "<Figure size 360x360 with 1 Axes>"
      ]
     },
     "metadata": {},
     "output_type": "display_data"
    }
   ],
   "source": [
    "sns.set(style=\"darkgrid\")\n",
    "ax = sns.catplot(x=\"type\", y=\"tld_length\", kind=\"box\", data=df)"
   ]
  },
  {
   "cell_type": "markdown",
   "metadata": {},
   "source": [
    "## Target Encoding"
   ]
  },
  {
   "cell_type": "code",
   "execution_count": 322,
   "metadata": {},
   "outputs": [
    {
     "data": {
      "text/plain": [
       "0    428103\n",
       "1     96457\n",
       "3     94111\n",
       "2     32520\n",
       "Name: type_code, dtype: int64"
      ]
     },
     "execution_count": 322,
     "metadata": {},
     "output_type": "execute_result"
    }
   ],
   "source": [
    "from sklearn.preprocessing import LabelEncoder\n",
    "\n",
    "lb_make = LabelEncoder()\n",
    "df[\"type_code\"] = lb_make.fit_transform(df[\"type\"])\n",
    "df[\"type_code\"].value_counts()\n",
    "\n"
   ]
  },
  {
   "cell_type": "markdown",
   "metadata": {},
   "source": [
    "## Creation of Feature & Target "
   ]
  },
  {
   "cell_type": "code",
   "execution_count": 323,
   "metadata": {},
   "outputs": [],
   "source": [
    "#Predictor Variables\n",
    "# filtering out google_index as it has only 1 value\n",
    "X = df[['use_of_ip','abnormal_url', 'count.', 'count-www', 'count@',\n",
    "       'count_dir', 'count_embed_domian', 'short_url', 'count-https',\n",
    "       'count-http', 'count%', 'count?', 'count-', 'count=', 'url_length',\n",
    "       'hostname_length', 'sus_url', 'fd_length', 'tld_length', 'count-digits',\n",
    "       'count-letters']]\n",
    "\n",
    "#Target Variable\n",
    "y = df['type_code']"
   ]
  },
  {
   "cell_type": "code",
   "execution_count": 324,
   "metadata": {
    "scrolled": true
   },
   "outputs": [
    {
     "data": {
      "text/html": [
       "<div>\n",
       "<style scoped>\n",
       "    .dataframe tbody tr th:only-of-type {\n",
       "        vertical-align: middle;\n",
       "    }\n",
       "\n",
       "    .dataframe tbody tr th {\n",
       "        vertical-align: top;\n",
       "    }\n",
       "\n",
       "    .dataframe thead th {\n",
       "        text-align: right;\n",
       "    }\n",
       "</style>\n",
       "<table border=\"1\" class=\"dataframe\">\n",
       "  <thead>\n",
       "    <tr style=\"text-align: right;\">\n",
       "      <th></th>\n",
       "      <th>use_of_ip</th>\n",
       "      <th>abnormal_url</th>\n",
       "      <th>count.</th>\n",
       "      <th>count-www</th>\n",
       "      <th>count@</th>\n",
       "      <th>count_dir</th>\n",
       "      <th>count_embed_domian</th>\n",
       "      <th>short_url</th>\n",
       "      <th>count-https</th>\n",
       "      <th>count-http</th>\n",
       "      <th>...</th>\n",
       "      <th>count?</th>\n",
       "      <th>count-</th>\n",
       "      <th>count=</th>\n",
       "      <th>url_length</th>\n",
       "      <th>hostname_length</th>\n",
       "      <th>sus_url</th>\n",
       "      <th>fd_length</th>\n",
       "      <th>tld_length</th>\n",
       "      <th>count-digits</th>\n",
       "      <th>count-letters</th>\n",
       "    </tr>\n",
       "  </thead>\n",
       "  <tbody>\n",
       "    <tr>\n",
       "      <th>0</th>\n",
       "      <td>0</td>\n",
       "      <td>0</td>\n",
       "      <td>2</td>\n",
       "      <td>0</td>\n",
       "      <td>0</td>\n",
       "      <td>0</td>\n",
       "      <td>0</td>\n",
       "      <td>0</td>\n",
       "      <td>0</td>\n",
       "      <td>0</td>\n",
       "      <td>...</td>\n",
       "      <td>0</td>\n",
       "      <td>1</td>\n",
       "      <td>0</td>\n",
       "      <td>16</td>\n",
       "      <td>0</td>\n",
       "      <td>0</td>\n",
       "      <td>0</td>\n",
       "      <td>-1</td>\n",
       "      <td>0</td>\n",
       "      <td>13</td>\n",
       "    </tr>\n",
       "    <tr>\n",
       "      <th>1</th>\n",
       "      <td>0</td>\n",
       "      <td>0</td>\n",
       "      <td>2</td>\n",
       "      <td>0</td>\n",
       "      <td>0</td>\n",
       "      <td>2</td>\n",
       "      <td>0</td>\n",
       "      <td>0</td>\n",
       "      <td>0</td>\n",
       "      <td>0</td>\n",
       "      <td>...</td>\n",
       "      <td>0</td>\n",
       "      <td>0</td>\n",
       "      <td>0</td>\n",
       "      <td>35</td>\n",
       "      <td>0</td>\n",
       "      <td>0</td>\n",
       "      <td>5</td>\n",
       "      <td>-1</td>\n",
       "      <td>1</td>\n",
       "      <td>29</td>\n",
       "    </tr>\n",
       "    <tr>\n",
       "      <th>2</th>\n",
       "      <td>0</td>\n",
       "      <td>0</td>\n",
       "      <td>2</td>\n",
       "      <td>0</td>\n",
       "      <td>0</td>\n",
       "      <td>3</td>\n",
       "      <td>0</td>\n",
       "      <td>0</td>\n",
       "      <td>0</td>\n",
       "      <td>0</td>\n",
       "      <td>...</td>\n",
       "      <td>0</td>\n",
       "      <td>0</td>\n",
       "      <td>0</td>\n",
       "      <td>31</td>\n",
       "      <td>0</td>\n",
       "      <td>0</td>\n",
       "      <td>7</td>\n",
       "      <td>-1</td>\n",
       "      <td>1</td>\n",
       "      <td>25</td>\n",
       "    </tr>\n",
       "    <tr>\n",
       "      <th>3</th>\n",
       "      <td>0</td>\n",
       "      <td>1</td>\n",
       "      <td>3</td>\n",
       "      <td>1</td>\n",
       "      <td>0</td>\n",
       "      <td>1</td>\n",
       "      <td>0</td>\n",
       "      <td>0</td>\n",
       "      <td>0</td>\n",
       "      <td>1</td>\n",
       "      <td>...</td>\n",
       "      <td>1</td>\n",
       "      <td>1</td>\n",
       "      <td>4</td>\n",
       "      <td>88</td>\n",
       "      <td>21</td>\n",
       "      <td>0</td>\n",
       "      <td>9</td>\n",
       "      <td>2</td>\n",
       "      <td>7</td>\n",
       "      <td>63</td>\n",
       "    </tr>\n",
       "    <tr>\n",
       "      <th>4</th>\n",
       "      <td>0</td>\n",
       "      <td>1</td>\n",
       "      <td>2</td>\n",
       "      <td>0</td>\n",
       "      <td>0</td>\n",
       "      <td>1</td>\n",
       "      <td>0</td>\n",
       "      <td>0</td>\n",
       "      <td>0</td>\n",
       "      <td>1</td>\n",
       "      <td>...</td>\n",
       "      <td>1</td>\n",
       "      <td>1</td>\n",
       "      <td>3</td>\n",
       "      <td>235</td>\n",
       "      <td>23</td>\n",
       "      <td>0</td>\n",
       "      <td>9</td>\n",
       "      <td>3</td>\n",
       "      <td>22</td>\n",
       "      <td>199</td>\n",
       "    </tr>\n",
       "  </tbody>\n",
       "</table>\n",
       "<p>5 rows × 21 columns</p>\n",
       "</div>"
      ],
      "text/plain": [
       "   use_of_ip  abnormal_url  count.  count-www  count@  count_dir  \\\n",
       "0          0             0       2          0       0          0   \n",
       "1          0             0       2          0       0          2   \n",
       "2          0             0       2          0       0          3   \n",
       "3          0             1       3          1       0          1   \n",
       "4          0             1       2          0       0          1   \n",
       "\n",
       "   count_embed_domian  short_url  count-https  count-http  ...  count?  \\\n",
       "0                   0          0            0           0  ...       0   \n",
       "1                   0          0            0           0  ...       0   \n",
       "2                   0          0            0           0  ...       0   \n",
       "3                   0          0            0           1  ...       1   \n",
       "4                   0          0            0           1  ...       1   \n",
       "\n",
       "   count-  count=  url_length  hostname_length  sus_url  fd_length  \\\n",
       "0       1       0          16                0        0          0   \n",
       "1       0       0          35                0        0          5   \n",
       "2       0       0          31                0        0          7   \n",
       "3       1       4          88               21        0          9   \n",
       "4       1       3         235               23        0          9   \n",
       "\n",
       "   tld_length  count-digits  count-letters  \n",
       "0          -1             0             13  \n",
       "1          -1             1             29  \n",
       "2          -1             1             25  \n",
       "3           2             7             63  \n",
       "4           3            22            199  \n",
       "\n",
       "[5 rows x 21 columns]"
      ]
     },
     "execution_count": 324,
     "metadata": {},
     "output_type": "execute_result"
    }
   ],
   "source": [
    "X.head()"
   ]
  },
  {
   "cell_type": "code",
   "execution_count": 325,
   "metadata": {},
   "outputs": [
    {
     "data": {
      "text/plain": [
       "Index(['use_of_ip', 'abnormal_url', 'count.', 'count-www', 'count@',\n",
       "       'count_dir', 'count_embed_domian', 'short_url', 'count-https',\n",
       "       'count-http', 'count%', 'count?', 'count-', 'count=', 'url_length',\n",
       "       'hostname_length', 'sus_url', 'fd_length', 'tld_length', 'count-digits',\n",
       "       'count-letters'],\n",
       "      dtype='object')"
      ]
     },
     "execution_count": 325,
     "metadata": {},
     "output_type": "execute_result"
    }
   ],
   "source": [
    "X.columns"
   ]
  },
  {
   "cell_type": "markdown",
   "metadata": {},
   "source": [
    "## Train Test Split"
   ]
  },
  {
   "cell_type": "code",
   "execution_count": 326,
   "metadata": {},
   "outputs": [],
   "source": [
    "X_train, X_test, y_train, y_test = train_test_split(X, y, stratify=y, test_size=0.2,shuffle=True, random_state=5)"
   ]
  },
  {
   "cell_type": "markdown",
   "metadata": {},
   "source": [
    "# Model Building "
   ]
  },
  {
   "cell_type": "markdown",
   "metadata": {},
   "source": [
    "## 1. Random Forest Classifier"
   ]
  },
  {
   "cell_type": "code",
   "execution_count": 327,
   "metadata": {},
   "outputs": [],
   "source": [
    "from sklearn import metrics"
   ]
  },
  {
   "cell_type": "code",
   "execution_count": 328,
   "metadata": {},
   "outputs": [
    {
     "name": "stdout",
     "output_type": "stream",
     "text": [
      "              precision    recall  f1-score   support\n",
      "\n",
      "      benign       0.97      0.98      0.98     85621\n",
      "  defacement       0.98      0.99      0.99     19292\n",
      "    phishing       0.99      0.94      0.97      6504\n",
      "     malware       0.91      0.86      0.88     18822\n",
      "\n",
      "    accuracy                           0.97    130239\n",
      "   macro avg       0.96      0.95      0.95    130239\n",
      "weighted avg       0.97      0.97      0.97    130239\n",
      "\n",
      "accuracy:   0.966\n"
     ]
    }
   ],
   "source": [
    "from sklearn.ensemble import RandomForestClassifier\n",
    "rf = RandomForestClassifier(n_estimators=100,max_features='sqrt')\n",
    "rf.fit(X_train,y_train)\n",
    "y_pred_rf = rf.predict(X_test)\n",
    "print(classification_report(y_test,y_pred_rf,target_names=['benign', 'defacement','phishing','malware']))\n",
    "\n",
    "score = metrics.accuracy_score(y_test, y_pred_rf)\n",
    "print(\"accuracy:   %0.3f\" % score)"
   ]
  },
  {
   "cell_type": "code",
   "execution_count": 329,
   "metadata": {},
   "outputs": [
    {
     "data": {
      "image/png": "[encoded data removed]",
      "text/plain": [
       "<Figure size 576x432 with 2 Axes>"
      ]
     },
     "metadata": {},
     "output_type": "display_data"
    }
   ],
   "source": [
    "cm = confusion_matrix(y_test, y_pred_rf)\n",
    "cm_df = pd.DataFrame(cm,\n",
    "                     index = ['benign', 'defacement','phishing','malware'], \n",
    "                     columns = ['benign', 'defacement','phishing','malware'])\n",
    "plt.figure(figsize=(8,6))\n",
    "sns.heatmap(cm_df, annot=True,fmt=\".1f\")\n",
    "plt.title('Confusion Matrix')\n",
    "plt.ylabel('Actal Values')\n",
    "plt.xlabel('Predicted Values')\n",
    "plt.show()"
   ]
  },
  {
   "cell_type": "code",
   "execution_count": 330,
   "metadata": {},
   "outputs": [
    {
     "data": {
      "text/plain": [
       "<AxesSubplot:>"
      ]
     },
     "execution_count": 330,
     "metadata": {},
     "output_type": "execute_result"
    },
    {
     "data": {
      "image/png": "[encoded data removed]",
      "text/plain": [
       "<Figure size 720x432 with 1 Axes>"
      ]
     },
     "metadata": {},
     "output_type": "display_data"
    }
   ],
   "source": [
    "feat_importances = pd.Series(rf.feature_importances_, index=X_train.columns)\n",
    "feat_importances.sort_values().plot(kind=\"barh\",figsize=(10, 6))"
   ]
  },
  {
   "cell_type": "markdown",
   "metadata": {},
   "source": [
    "## 2. Light GBM Classifier"
   ]
  },
  {
   "cell_type": "code",
   "execution_count": 331,
   "metadata": {},
   "outputs": [
    {
     "name": "stdout",
     "output_type": "stream",
     "text": [
      "              precision    recall  f1-score   support\n",
      "\n",
      "      benign       0.97      0.99      0.98     85621\n",
      "  defacement       0.96      0.99      0.98     19292\n",
      "    phishing       0.97      0.91      0.94      6504\n",
      "     malware       0.90      0.83      0.86     18822\n",
      "\n",
      "    accuracy                           0.96    130239\n",
      "   macro avg       0.95      0.93      0.94    130239\n",
      "weighted avg       0.96      0.96      0.96    130239\n",
      "\n",
      "accuracy:   0.959\n"
     ]
    }
   ],
   "source": [
    "lgb = LGBMClassifier(objective='multiclass',boosting_type= 'gbdt',n_jobs = 5, \n",
    "          silent = True, random_state=5)\n",
    "LGB_C = lgb.fit(X_train, y_train)\n",
    "\n",
    "\n",
    "y_pred_lgb = LGB_C.predict(X_test)\n",
    "print(classification_report(y_test,y_pred_lgb,target_names=['benign', 'defacement','phishing','malware']))\n",
    "\n",
    "score = metrics.accuracy_score(y_test, y_pred_lgb)\n",
    "print(\"accuracy:   %0.3f\" % score)"
   ]
  },
  {
   "cell_type": "code",
   "execution_count": 332,
   "metadata": {},
   "outputs": [
    {
     "data": {
      "image/png": "[encoded data removed]",
      "text/plain": [
       "<Figure size 576x432 with 2 Axes>"
      ]
     },
     "metadata": {},
     "output_type": "display_data"
    }
   ],
   "source": [
    "cm = confusion_matrix(y_test, y_pred_lgb)\n",
    "cm_df = pd.DataFrame(cm,\n",
    "                     index = ['benign', 'defacement','phishing','malware'], \n",
    "                     columns = ['benign', 'defacement','phishing','malware'])\n",
    "plt.figure(figsize=(8,6))\n",
    "sns.heatmap(cm_df, annot=True,fmt=\".1f\")\n",
    "plt.title('Confusion Matrix')\n",
    "plt.ylabel('Actal Values')\n",
    "plt.xlabel('Predicted Values')\n",
    "plt.show()\n"
   ]
  },
  {
   "cell_type": "code",
   "execution_count": 333,
   "metadata": {},
   "outputs": [
    {
     "data": {
      "text/plain": [
       "<AxesSubplot:>"
      ]
     },
     "execution_count": 333,
     "metadata": {},
     "output_type": "execute_result"
    },
    {
     "data": {
      "image/png": "[encoded data removed]",
      "text/plain": [
       "<Figure size 720x432 with 1 Axes>"
      ]
     },
     "metadata": {},
     "output_type": "display_data"
    }
   ],
   "source": [
    "feat_importances = pd.Series(lgb.feature_importances_, index=X_train.columns)\n",
    "feat_importances.sort_values().plot(kind=\"barh\",figsize=(10, 6))"
   ]
  },
  {
   "cell_type": "markdown",
   "metadata": {},
   "source": [
    "## 3. XGboost Classifier"
   ]
  },
  {
   "cell_type": "code",
   "execution_count": 334,
   "metadata": {},
   "outputs": [
    {
     "name": "stderr",
     "output_type": "stream",
     "text": [
      "C:\\Users\\hhima\\anaconda3\\lib\\site-packages\\xgboost\\sklearn.py:1224: UserWarning: The use of label encoder in XGBClassifier is deprecated and will be removed in a future release. To remove this warning, do the following: 1) Pass option use_label_encoder=False when constructing XGBClassifier object; and 2) Encode your labels (y) as integers starting with 0, i.e. 0, 1, 2, ..., [num_class - 1].\n",
      "  warnings.warn(label_encoder_deprecation_msg, UserWarning)\n",
      "C:\\Users\\hhima\\anaconda3\\lib\\site-packages\\xgboost\\data.py:250: FutureWarning: pandas.Int64Index is deprecated and will be removed from pandas in a future version. Use pandas.Index with the appropriate dtype instead.\n",
      "  elif isinstance(data.columns, (pd.Int64Index, pd.RangeIndex)):\n"
     ]
    },
    {
     "name": "stdout",
     "output_type": "stream",
     "text": [
      "[13:54:09] WARNING: C:\\Windows\\Temp\\abs_557yfx631l\\croots\\recipe\\xgboost-split_1659548953302\\work\\src\\learner.cc:1115: Starting in XGBoost 1.3.0, the default evaluation metric used with the objective 'multi:softprob' was changed from 'merror' to 'mlogloss'. Explicitly set eval_metric if you'd like to restore the old behavior.\n",
      "              precision    recall  f1-score   support\n",
      "\n",
      "      benign       0.97      0.99      0.98     85621\n",
      "  defacement       0.97      0.99      0.98     19292\n",
      "    phishing       0.98      0.91      0.94      6504\n",
      "     malware       0.91      0.83      0.87     18822\n",
      "\n",
      "    accuracy                           0.96    130239\n",
      "   macro avg       0.96      0.93      0.94    130239\n",
      "weighted avg       0.96      0.96      0.96    130239\n",
      "\n",
      "accuracy:   0.962\n"
     ]
    }
   ],
   "source": [
    "xgb_c = xgb.XGBClassifier(n_estimators= 100)\n",
    "xgb_c.fit(X_train,y_train)\n",
    "y_pred_x = xgb_c.predict(X_test)\n",
    "print(classification_report(y_test,y_pred_x,target_names=['benign', 'defacement','phishing','malware']))\n",
    "\n",
    "\n",
    "score = metrics.accuracy_score(y_test, y_pred_x)\n",
    "print(\"accuracy:   %0.3f\" % score)"
   ]
  },
  {
   "cell_type": "code",
   "execution_count": 335,
   "metadata": {},
   "outputs": [
    {
     "data": {
      "image/png": "[encoded data removed]",
      "text/plain": [
       "<Figure size 576x432 with 2 Axes>"
      ]
     },
     "metadata": {},
     "output_type": "display_data"
    }
   ],
   "source": [
    "cm = confusion_matrix(y_test, y_pred_x)\n",
    "cm_df = pd.DataFrame(cm,\n",
    "                     index = ['benign', 'defacement','phishing','malware'], \n",
    "                     columns = ['benign', 'defacement','phishing','malware'])\n",
    "plt.figure(figsize=(8,6))\n",
    "sns.heatmap(cm_df, annot=True,fmt=\".1f\")\n",
    "plt.title('Confusion Matrix')\n",
    "plt.ylabel('Actal Values')\n",
    "plt.xlabel('Predicted Values')\n",
    "plt.show()"
   ]
  },
  {
   "cell_type": "code",
   "execution_count": 336,
   "metadata": {},
   "outputs": [
    {
     "data": {
      "text/plain": [
       "<AxesSubplot:>"
      ]
     },
     "execution_count": 336,
     "metadata": {},
     "output_type": "execute_result"
    },
    {
     "data": {
      "image/png": "[encoded data removed]",
      "text/plain": [
       "<Figure size 720x432 with 1 Axes>"
      ]
     },
     "metadata": {},
     "output_type": "display_data"
    }
   ],
   "source": [
    "feat_importances = pd.Series(xgb_c.feature_importances_, index=X_train.columns)\n",
    "feat_importances.sort_values().plot(kind=\"barh\",figsize=(10, 6))"
   ]
  },
  {
   "cell_type": "markdown",
   "metadata": {},
   "source": [
    "## Prediction"
   ]
  },
  {
   "cell_type": "code",
   "execution_count": 337,
   "metadata": {},
   "outputs": [],
   "source": [
    "def main(url):\n",
    "    \n",
    "    status = []\n",
    "    \n",
    "    status.append(having_ip_address(url))\n",
    "    status.append(abnormal_url(url))\n",
    "    status.append(count_dot(url))\n",
    "    status.append(count_www(url))\n",
    "    status.append(count_atrate(url))\n",
    "    status.append(no_of_dir(url))\n",
    "    status.append(no_of_embed(url))\n",
    "    \n",
    "    status.append(shortening_service(url))\n",
    "    status.append(count_https(url))\n",
    "    status.append(count_http(url))\n",
    "    \n",
    "    status.append(count_per(url))\n",
    "    status.append(count_ques(url))\n",
    "    status.append(count_hyphen(url))\n",
    "    status.append(count_equal(url))\n",
    "    \n",
    "    status.append(url_length(url))\n",
    "    status.append(hostname_length(url))\n",
    "    status.append(suspicious_words(url))\n",
    "    status.append(digit_count(url))\n",
    "    \n",
    "    status.append(letter_count(url))\n",
    "    status.append(fd_length(url))\n",
    "    tld = get_tld(url,fail_silently=True)\n",
    "      \n",
    "    status.append(tld_length(tld))\n",
    "    \n",
    "    \n",
    "    \n",
    "\n",
    "    return status"
   ]
  },
  {
   "cell_type": "code",
   "execution_count": 338,
   "metadata": {},
   "outputs": [],
   "source": [
    "\n",
    "def get_prediction_from_url(test_url):\n",
    "    features_test = main(test_url)\n",
    "    # Due to updates to scikit-learn, we now need a 2D array as a parameter to the predict function.\n",
    "    features_test = np.array(features_test).reshape((1, -1))\n",
    "\n",
    "    \n",
    "\n",
    "    pred = lgb.predict(features_test)\n",
    "    if int(pred[0]) == 0:\n",
    "        \n",
    "        res=\"SAFE\"\n",
    "        return res\n",
    "    elif int(pred[0]) == 1.0:\n",
    "        \n",
    "        res=\"DEFACEMENT\"\n",
    "        return res\n",
    "    elif int(pred[0]) == 2.0:\n",
    "        res=\"MALWARE\"\n",
    "        return res\n",
    "        \n",
    "    elif int(pred[0]) == 3.0:\n",
    "        \n",
    "        res=\"PHISHING\"\n",
    "        return res\n",
    "    "
   ]
  },
  {
   "cell_type": "code",
   "execution_count": 365,
   "metadata": {},
   "outputs": [
    {
     "name": "stdout",
     "output_type": "stream",
     "text": [
      "SAFE\n"
     ]
    }
   ],
   "source": [
    "\n",
    "urls = ['youtube.com/']\n",
    "for url in urls:\n",
    "     print(get_prediction_from_url(url))\n"
   ]
  },
  {
   "cell_type": "code",
   "execution_count": 369,
   "metadata": {},
   "outputs": [],
   "source": [
    "a = df[(df['type']=='malware')]\n",
    "b = df[(df['type']=='benign')]\n",
    "b = list(b.url)"
   ]
  },
  {
   "cell_type": "code",
   "execution_count": 367,
   "metadata": {},
   "outputs": [],
   "source": [
    "a = list(a.url) "
   ]
  },
  {
   "cell_type": "code",
   "execution_count": 342,
   "metadata": {},
   "outputs": [],
   "source": [
    "d ={}\n",
    "\n",
    "for i in a:\n",
    "    s = get_prediction_from_url(i)\n",
    "    if s in d:\n",
    "        d[s]+=1\n",
    "    else:\n",
    "        d[s]=1"
   ]
  },
  {
   "cell_type": "code",
   "execution_count": 368,
   "metadata": {},
   "outputs": [
    {
     "data": {
      "text/plain": [
       "{'PHISHING': 25}"
      ]
     },
     "execution_count": 368,
     "metadata": {},
     "output_type": "execute_result"
    }
   ],
   "source": [
    "d"
   ]
  },
  {
   "cell_type": "code",
   "execution_count": 344,
   "metadata": {},
   "outputs": [
    {
     "data": {
      "text/plain": [
       "benign        428103\n",
       "defacement     96457\n",
       "phishing       94111\n",
       "malware        32520\n",
       "Name: type, dtype: int64"
      ]
     },
     "execution_count": 344,
     "metadata": {},
     "output_type": "execute_result"
    }
   ],
   "source": [
    "df.type.value_counts()"
   ]
  },
  {
   "cell_type": "code",
   "execution_count": 370,
   "metadata": {},
   "outputs": [
    {
     "data": {
      "text/plain": [
       "['mp3raid.com/music/krizz_kaliko.html',\n",
       " 'bopsecrets.org/rexroth/cr/1.htm',\n",
       " 'http://buzzfil.net/m/show-art/ils-etaient-loin-de-s-imaginer-que-le-hibou-allait-faire-ceci-quand-ils-filmaient-2.html',\n",
       " 'espn.go.com/nba/player/_/id/3457/brandon-rush',\n",
       " 'yourbittorrent.com/?q=anthony-hamilton-soulife',\n",
       " 'allmusic.com/album/crazy-from-the-heat-r16990',\n",
       " 'corporationwiki.com/Ohio/Columbus/frank-s-benson-P3333917.aspx',\n",
       " 'myspace.com/video/vid/30602581',\n",
       " 'quickfacts.census.gov/qfd/maps/iowa_map.html',\n",
       " 'nugget.ca/ArticleDisplay.aspx?archive=true&e=1160966',\n",
       " 'uk.linkedin.com/pub/steve-rubenstein/8/718/755',\n",
       " 'baseball-reference.com/players/h/harrige01.shtml',\n",
       " '192.com/atoz/people/oakley/patrick/',\n",
       " 'nytimes.com/1998/03/29/style/cuttings-oh-that-brazen-raucous-glorious-hibiscus.html',\n",
       " 'escholarship.org/uc/item/5xt4952c',\n",
       " 'songfacts.com/detail.php?id=13410',\n",
       " 'casamanana.org/education/blba/',\n",
       " 'http://hollywoodlife.com/2014/05/01/rihanna-iheartradio-music-awards-dress-2014-pics/',\n",
       " 'en.wikipedia.org/wiki/North_Dakota',\n",
       " 'soaps.sheknows.com/daysofourlives/news/id/20259/Days_Of_Our_Lives_Casts_Ruta_Lee/',\n",
       " 'perfectpeople.net/celebrity-star/6920/gidget-gein.htm',\n",
       " 'media.caltech.edu/press_releases/13186',\n",
       " 'wikiobits.com/Obits/TonyProudfoot',\n",
       " 'vanderbilt.rivals.com/viewcoach.asp?coach=2079&sport=1&year=2011',\n",
       " 'movies.yahoo.com/shop?d=hv&cf=info&id=1800340831',\n",
       " 'cyndislist.com/us/pa/counties',\n",
       " 'psychology.wikia.com/wiki/Phonemes',\n",
       " 'info.centriq.com/content/fivereasons',\n",
       " 'articles.baltimoresun.com/1991-06-11/sports/1991162162_1_james-koehler-texas-rangers-terrell-lowery',\n",
       " 'infinitysw.com/',\n",
       " 'strawberrycreekgardens.com/',\n",
       " 'spoke.com/dir/p/desantis/nick',\n",
       " 'wordsmith.org/words/pignus.html',\n",
       " 'http://interpark.com/displaycorner/FreeMarket.do?_method=itemCateList&free1=pc&free2=007001008003&free3=item&disp_no=007001008003',\n",
       " 'almanac.logos.com/Denominations',\n",
       " 'gaming.wikia.com/wiki/Backbreaker_(video_game)',\n",
       " 'ceu.hu/',\n",
       " 'registry.weddingchannel.com/coupledir/20108/C/R314763282/JARED_CLOUGH_AND_TAJAI_RITCHIE.htm',\n",
       " 'linkedin.com/pub/george-cleveland/7/80a/599',\n",
       " 'sunshinemills.com/',\n",
       " 'agoda.com/north_america/canada/montreal_qc/attractions/hotels_near_mcgill_university_centre_for_continuing_education.html',\n",
       " 'ctv.ca/generic/WebSpecials/sponsorship_scandal/',\n",
       " 'veoox.com/tags/game.html',\n",
       " 'chuckwalkertrio.blogspot.com/',\n",
       " 'aerosolesshoes.org/',\n",
       " 'recipelink.com/msgbrd/board_14/2007/DEC/29094.html',\n",
       " 'ideas.repec.org/f/pma235.html',\n",
       " 'peopleaz.org/firstname/Fowlkes/6',\n",
       " 'orensamtraktrip.wordpress.com/',\n",
       " 'alexa.com/whatshot?q=james+arness',\n",
       " 'jpopasia.com/group/arashi/discography/',\n",
       " 'kitsapsun.com/photos/2011/feb/25/177999/',\n",
       " 'local.yahoo.com/info-42862457-oakland-international-airport-oakland',\n",
       " 'tripadvisor.com/Restaurant_Review-g680765-d1768647-Reviews-Yacha_Yacha-Miyakojima_Okinawa_Prefecture_Kyushu_Okinawa.html',\n",
       " 'articles.elitefts.com/articles/training-articles/five-great-exercises-for-building-a-dominant-defensive-lineman/',\n",
       " 'broadwaystars.com/classic/?source=www.playbill.com',\n",
       " 'forums.networkinfrastructure.info/motorola-wireless-lan-switches/',\n",
       " 'youtube.com/watch?v=mwpoPQ1SPJU',\n",
       " 'mccall-idchamber.org/',\n",
       " 'chacha.com/question/who-said-the-quote-%27say-what-you-mean%2C-mean-what-you-say-and-put-a-beat-to-it%27',\n",
       " 'friars.com/sports/m-baskbl/archive/prov-m-baskbl-2003.html',\n",
       " 'pipl.com/directory/name/Whissell/180',\n",
       " 'spokeo.com/John+Collet',\n",
       " 'http://fanpage.gr/family/gineka/%ce%b1%cf%85%cf%84%ce%bf%ce%af-%ce%b5%ce%af%ce%bd%ce%b1%ce%b9-%ce%bf%ce%b9-13-%cf%89%cf%81%ce%b1%ce%b9%cf%8c%cf%84%ce%b5%cf%81%ce%bf%ce%b9-%ce%ad%ce%bb%ce%bb%ce%b7%ce%bd%ce%b5%cf%82-%ce%b1%ce%bd-2/',\n",
       " 'faqs.org/copyright/handbook-for-the-individual-or-group-culture-free/',\n",
       " 'duckduckgo.com/1/c/Roman_Catholic_cathedrals_in_Canada',\n",
       " 'http://worldoftanks.ru/ru/content/guide/payments_instruction/mobile-payments-rostelekom-ural-utel/',\n",
       " 'en.wikipedia.org/wiki/Lloyd_Bacon',\n",
       " 'http://serverfault.com/questions/682832/squid-transparent-https-certificate-error-ssl-error-bad-cert-domain',\n",
       " 'ciajfk.com/harold.html',\n",
       " 'indyweek.com/artery/archives/2011/10/07/come-back-to-the-1980s-at-the-escapism-film-festival-which-begins-friday',\n",
       " 'linkedin.com/pub/charles-gariepy/2/642/28',\n",
       " 'eyeappealoptometry.com/',\n",
       " 'brophygen.com/',\n",
       " 'icehockey.wikia.com/wiki/Dan_Blackburn',\n",
       " 'gurufocus.com/news/116068/who-is-the-warren-buffett-of-canada-prem-watsa-of-fairfax-financial-ffh-or-paul-desmarais-of-power-corporation-of-canada-pow',\n",
       " 'stewstew.com/',\n",
       " 'livingharvest.com/products/ice-cream-bars',\n",
       " 'http://icicibank.com/Personal-Banking/offers/offer-detail.page?id=offer-readers-digest-magazine-offer-20150202203953555',\n",
       " 'bleacherreport.com/articles/300242-doug-harvey-one-of-the-best-ever-to-play-the-game',\n",
       " 'artfacts.net/it/istituzion/ms--muzeum-sztuki-lodz-2724/visione-generale.html',\n",
       " 'parsippanysoccerclub.org/',\n",
       " 'international.uiowa.edu/services/language/allnet/resources/languages/turkish.asp',\n",
       " 'btscene.eu/verified-search/torrent/franco+piersanti/',\n",
       " 'signature-editions.com/',\n",
       " 'en.wikipedia.org/wiki/Blessed_by_a_Broken_Heart',\n",
       " 'national.ca/Bold-Thinking/NATIONAL-Publications.aspx',\n",
       " 'http://motthegioi.vn/the-gioi-cuoi/clip-dai-gia-mac-ca-voi-co-ban-banh-my-185682.html',\n",
       " 'metroactive.com/papers/metro/01.29.98/idiotflesh-9804.html',\n",
       " 'https://twitter.com/home?status=%E3%83%8C%E3%81%91%E3%82%8B%EF%BC%81%E3%80%90%E3%82%A2%E3%83%8B%E3%83%A1%E3%80%91+http%3A%2F%2Fero-video.net%2Ft%2FwjfL4fhPp1lPxTZb+%E3%82%A2%E3%83%AA%E3%82%B5%E5%86%8D%E3%81%B3%EF%BC%81%E3%82%A8%E3%83%AD%E3%82%A2%E3%83%8B%E3%83%A1+%23ero+%23douga+%23agesage',\n",
       " 'http://correios.com.br/para-sua-empresa/comunicacao/certificados-digitais/ajuda-interativa/informacoes-sobre-a-baixa-dos-certificados-a1',\n",
       " 'http://olx.ro/i2/electronice-si-electrocasnice/electrocasnice/masini-de-cusut/gtm.start',\n",
       " 'msn.foxsports.com/nhl/player/yann-sauve/720461',\n",
       " 'hallmark.businessgreetings.com/',\n",
       " 'musicstack.com/records-cds/toni+tony+tone',\n",
       " 'nudecelebsnow.com/tags/1/victoria+justus.htm',\n",
       " 'worldwrestlinginsanity.com/am2/publish/ringofhonorlive/roh_sinclair_tv2.shtml',\n",
       " 'http://slashdot.org/submission/2916707/facebook-to-include-profile-photos-in-its-facial-recognition-database',\n",
       " 'facebook.com/people/Yui-Takeshita/100001611015714',\n",
       " 'sportsposterwarehouse.com/items_388__grandprixclassicscoll.html',\n",
       " 'padmapper.com/search/apartments/Quebec/Montreal-est/',\n",
       " 'mrskin.com/christina-ricci-nude-c868.html',\n",
       " 'lip-service.com/webzine/tag/post-apocalyptic-fashion/',\n",
       " 'linkedin.com/pub/dir/elizabeth/scarborough',\n",
       " 'cqgcr.ca/ang/producer01.php',\n",
       " 'huffingtonpost.com/2011/10/24/south-carolina-primary-case_n_1029599.html',\n",
       " 'http://qz.com/403774/quartz-daily-brief-japanese-military-verizon-aol-sporty-branson-saucy-swedes/',\n",
       " 'select.nytimes.com/gst/abstract.html?res=F70814F93B581A7A93CBA9178BD95F4C8385F9',\n",
       " 'startrekcostumes.net/',\n",
       " 'en.wikipedia.org/wiki/Neil_Curtis',\n",
       " 'music.carowinds.com/',\n",
       " 'newjersey.craigslist.org/',\n",
       " 'familypedia.wikia.com/wiki/Joseph_Philippe_Roi_de_Villere_%281727-1769%29',\n",
       " 'http://mylust.com/videos/232790/hentai-slut-with-big-juicy-tits-gets-fucked-doggy-style/',\n",
       " 'acronymfinder.com/John-Burroughs-High-school-(Burbank%2c-CA)-(JBHS).html',\n",
       " 'youtube.com/watch?v=K_-bsYE-y08',\n",
       " 'myspace.com/jking909',\n",
       " \"movies.msn.com/celebrities/celebrity/george-'gabby'-hayes/\",\n",
       " 'idlebrain.com/news/functions/engagement-brahmini.html',\n",
       " 'vh1.com/video/that-metal-show/full-episodes/carmine-appice-dave-meniketti/1663564/playlist.jhtml',\n",
       " 'archiver.rootsweb.ancestry.com/th/read/GEN-OBIT/2007-04/1176208149',\n",
       " 'perezhilton.com/category/william-shatner/',\n",
       " 'fsnaindia.com/',\n",
       " 'actionjaxon666.wordpress.com/2011/02/24/new-macbook-pros-secretly-16gb-capable/',\n",
       " 'en.wikipedia.org/wiki/Kenji_Nojima',\n",
       " 'alaskajewelry.com/colored-stone-tanzanite-rings-c-21_72_91.html?=&infoBox=0',\n",
       " 'greenparty.ca/campaign/24048',\n",
       " 'http://mic.com/articles/117758/mtv-just-gave-these-artists-a-huge-platform-to-bring-attention-to-indigenous-rights',\n",
       " 'randomhouse.com/book/84548/tapestry-of-spies-by-stephen-hunter',\n",
       " 'argentinawarez.com/musica-mp3-gratis/65991-ost-boat-rocked-soundtrack-2cd-2009-a.html',\n",
       " '192.com/atoz/people/gerrard/steven/',\n",
       " 'users6.nofeehost.com/aldenh/493.html',\n",
       " 'facebook.com/opalhilldrive',\n",
       " 'scottss.com/',\n",
       " 'manta.com/ic/mt6fkz0/ca/residence-sault-au-recollet',\n",
       " 'forum.exscn.net/archive/index.php/t-10778.html?pda=1',\n",
       " 'superpages.com/bp/Kansas-City-KS/Kansas-City-Terminal-Railway-L2170949422.htm',\n",
       " 'maxlapointe.com/?p=141',\n",
       " 'ca.ratemyteachers.com/louise-trichet/106184-s',\n",
       " 'cardomain.com/ride/2424103/2006-pontiac-gto',\n",
       " 'apps.facebook.com/ilike/artist/Les+Respectables',\n",
       " 'cbssports.com/nba/players/playerpage/20626/paul-pierce',\n",
       " 'home.comcast.net/~jcage89/350z/navbox/index.htm',\n",
       " 'margaritawill.com/hotdogs/',\n",
       " 'pipl.com/directory/name/Pallas/Tony',\n",
       " 'newyorker.com/archive/1982/04/12/1982_04_12_039_TNY_CARDS_000335949',\n",
       " 'youtube.com/watch?v=eMY1FT3Pqh8',\n",
       " 'law.cornell.edu/wex/Joint_venture',\n",
       " 'pitchfork.com/reviews/albums/13979-broken-bells/',\n",
       " 'http://skyrock.com/videos/eDJwODRhNzoxMw==-bug-1187-moi-ma-famille.html?top=3&period=recent',\n",
       " 'hollywood.com/movie/Biutiful/6870447',\n",
       " 'facebook.com/pages/The-Paul-Lynde-Halloween-Special-1976/280289980245',\n",
       " 'hot-people.info/Crossett_AR_Dorothy-Moore_Eric--Newton_1051.html',\n",
       " 'onlineradio7.com/listen/CFLO_1047',\n",
       " 'artistswithaids.org/artforms/music/catalogue/rileyl.html',\n",
       " 'mylife.com/dominicbouchard',\n",
       " 'mmagearguide.com/ufc-117-t-shirts-silva-vs-sonnen/',\n",
       " 'worldtraveltours.org/4-alternative-places-you-can-choose-at-montreal-travel/.html',\n",
       " 'iptv.org/',\n",
       " 'elliscountydivorcelawyer.com/ellis-county-post-divorce-modification.htm',\n",
       " 'http://grantland.com/the-triangle/2015-mlb-over-under-bets-chicago-cubs-houston-astros-oakland-as-tampa-bay-rays/',\n",
       " 'fanpix.net/gallery/doug-savant-pictures.htm',\n",
       " 'chacha.com/question/what-time-does-metro-center-mall-close',\n",
       " 'marcospecialties.com/storeitems.asp?game=Chicago%20Coin&Chicago%20Coin=RED%20BARON%20(Blue%20Max)',\n",
       " 'hdlns.com/g508zf1457/Kansas+City+Star+Obituaries+Obituaries+from+Kansas+City+Star+Kansas+City%2C+MO',\n",
       " 'familytreemaker.genealogy.com/users/v/e/r/James-R-Verrier/GENE7-0008.html',\n",
       " 'therainmakersmessageboard.yuku.com/',\n",
       " 'tumblr.com/tagged/sebastien+lefebvre',\n",
       " 'ussoccer.com/News/Soccer-Wire/2002/10/U-S-Soccer-Wire-Galaxy-Claims-2002-MLS-Cup-With-1-0-Double-OT-Win-Over-Revs-Will-Go-For-Rare-Double.aspx',\n",
       " 'filmannex.com/movie/1984-olympics-fencing-men-saber/21938',\n",
       " 'allaboutjazz.com/php/musician.php?id=3751',\n",
       " 'skiracing.com/?q=node/514',\n",
       " 'ertx.com/movie/2008/mad-about-mambo',\n",
       " 'classicbikepictures.co.uk/c319/p2499/for_sale/yamaha%C2%A0yfu1wyfu1-t_for_sale.html',\n",
       " 'http://thenextweb.com/dd/2011/05/09/squarespace-to-begin-version-6-beta-testing/gtm.js/gtm.js',\n",
       " 'mtlasm.blogspot.com/',\n",
       " 'medicinenet.com/heel_spurs/city.htm',\n",
       " 'music.yahoo.com/nothingface/',\n",
       " 'espn.go.com/college-football/team/_/id/2306/kansas-state-wildcats',\n",
       " 'bleacherreport.com/articles/811265-mlb-power-rankings-comparing-every-mlb-team-to-a-classic-80s-rock-band',\n",
       " 'famoushookups.com/site/relationship_detail.php?name=Martin-Brodeur&celebid=12150&relid=11371',\n",
       " 'genealogybuff.com/ar/clark/webbbs_config.pl/noframes/read/10',\n",
       " 'microlabsltd.com/',\n",
       " 'tripadvisor.com/ShowUserReviews-g57417-d1013388-r21219909-Mulligan_s-Stratton_Mountain_Vermont.html',\n",
       " 'flickr.com/people/sleepingelf/',\n",
       " 'subscene.com/Taking-Woodstock/subtitles-80048.aspx',\n",
       " 'http://thenextweb.com/insider/2014/10/29/unbabel-integrates-mailchimp-offer-translation-service-promotional-emails/gtm.js/gtm.start',\n",
       " 'tabs.ultimate-guitar.com/a/audioslave/audioslave_album_btab.htm',\n",
       " 'sunjournal.com/section/news/5974',\n",
       " 'ethicalsuperstore.com/products/green-and-blacks/organic-hot-chocolate-drink/?_$ja=tsid:6494%7Ccc:%7Cprd:12744%7Ccat:Groceries+%26+Everyday+%3E+Drinks+%3E+Chocolate',\n",
       " 'lilliputreview.blogspot.com/2011/04/r-h-blyth-on-waka-and-haiku.html',\n",
       " 'basketball.wikia.com/wiki/Golden_State_Warriors',\n",
       " 'ech.cwru.edu/ech-cgi/article.pl?id=PGS',\n",
       " 'filmaffinity.com/es/search.php?stype=cast&stext=Elliott+Gould',\n",
       " 'chicopeemasoniclodge.org/westover.htm',\n",
       " 'filmcritic.com/features/2008/10/american-science-fiction-movies/',\n",
       " 'geographic.org/geographic_names/v/ve_014.html',\n",
       " 'paperbackswap.com/Sadie-Rose-Adventure-Hilda-Stahl/book/0891076352/',\n",
       " 'baseball-almanac.com/players/player.php?p=hengeda01',\n",
       " 'biographi.ca/EN/ShowBio.asp?BioId=41243',\n",
       " 'deborahfrances-white.com/stand-up.html',\n",
       " 'spcmoray.com/',\n",
       " 'edu.gov.on.ca/eng/sift/indexSec.asp',\n",
       " 'benoitglazer.com/',\n",
       " 'judgepedia.org/index.php/Alan_Gold',\n",
       " 'sbnation.com/ncaa-football/players/36729/brandon-smith',\n",
       " 'isearch.com/searching.php?qloc=&showForm=name&qname=Robin+Kelly&refer=3338',\n",
       " 'ratemyteachers.com/amelia-high-school/15131-s',\n",
       " 'carfloormatsforsale.com/door-sill/',\n",
       " 'facebook.com/pages/Liberman-Broadcasting/106123536086051?sk=info',\n",
       " 'thefreelibrary.com/No+Catholic+schools+in+Quebec.-a030534573',\n",
       " 'cngzhz.en.ec21.com/',\n",
       " 'atlasshrugs2000.typepad.com/atlas_shrugs/2007/08/your-black-musl.html',\n",
       " 'rotoworld.com/player/nhl/1413/player?r=1',\n",
       " 'facebook.com/topic.php?uid=34012632110&topic=5794',\n",
       " 'tomdegan.blogspot.com/',\n",
       " 'http://codecanyon.net/item/hide-my-joomla-hide-your-source-links/full_screen_preview/8988449',\n",
       " 'cswisdom.com/',\n",
       " 'ibabuzz.com/outtakes/category/night-owl/crown-city-rockers/',\n",
       " 'youtube.com/watch?v=ueziUAQR9LU',\n",
       " 'en.wikipedia.org/wiki/Simonne_Monet-Chartrand',\n",
       " 'martindale.com/Brett-Donald-McIntosh/834737-lawyer.htm',\n",
       " 'frillr.com/?q=taxonomy/term/1733',\n",
       " 'bankingblog.celent.com/?p=2493',\n",
       " 'en.wikipedia.org/wiki/Category:American_religious_leaders',\n",
       " 'narrativemagazine.com/authors/saul-bellow',\n",
       " 'benmeadowcroft.com/reports/corbato/',\n",
       " 'spokeo.com/Mike+Burrows',\n",
       " 'http://otomoto.pl/ciezarowe/EW4Hou_aN610rPsocimkJ_IuLBofatBy4b0MLqoh7Lf.B7/JOcK7gzdoyrcIT2176iLzhCz8UoPOGcT6Y1ax8FNTPf.l7',\n",
       " 'youtube.com/watch?v=FXWq7qMYB2s',\n",
       " 'cifstate.org/',\n",
       " 'nchsband.com/',\n",
       " 'tvguide.com/celebrities/peter-keleghan/169984',\n",
       " 'arstechnica.com/apple/news/2011/07/how-charlie-miller-discovered-the-apple-battery-hackhow-a-security-researcher-discovered-the-apple-battery-hack.ars',\n",
       " 'blog.metmuseum.org/penandparchment/tag/hours-of-jeanne-devreux/',\n",
       " 'divacafe.net/',\n",
       " 'archive.org/stream/lifeofmaryqueeno00headuoft/lifeofmaryqueeno00headuoft_djvu.txt',\n",
       " 'http://buzzfil.net/article/5646/animaux/on-dirait-une-attaque-mais-la-realite-en-est-tout-autre-3.html?href=inner_website',\n",
       " 'manta.com/c/mmq1m7y/coldwell-banker-heart-america',\n",
       " 'superpages.com/bp/Milford-OH/Cliff-Riley-Insurance-L0125750056.htm',\n",
       " 'ideas.repec.org/e/ppe73.html',\n",
       " 'flickr.com/photos/cornforthimages/5812399737/',\n",
       " 'national.citysearch.com/profile/45753728/vacaville_ca/fentons_creamery.html',\n",
       " 'http://yourlust.com/videos/tight-euro-teen-anna-gets-properly-fucked-on-the-floor.html',\n",
       " 'nytimes.com/pages/books/index.html',\n",
       " 'legendsofhockey.net/LegendsOfHockey/jsp/SearchPlayer.jsp?player=10372',\n",
       " 'homegain.com/local_real_estate/ND/argusville.html',\n",
       " 'http://noticias.uol.com.br/album/bbc/2015/04/01/obras-de-anel-rodoviario-de-r-68-bilhoes-afetam-rios-e-nascentes-em-sp.htm',\n",
       " 'theglobeandmail.com/news/opinions/editorials/in-the-commons-the-kids-are-alright/article2011610/',\n",
       " 'bw.edu/athletics/fb/staff/grabowski/',\n",
       " 'fadsplymouth.com/',\n",
       " 'locatetv.com/tv/ellen-degeneres-show/1964142/episode-guide',\n",
       " 'imdb.com/name/nm0769371/',\n",
       " 'scotborders-folk.org.uk/labels.htm',\n",
       " 'visa.ca/gvav/list2005.jsp?year=2005&curMonth=12',\n",
       " 'en.wikipedia.org/wiki/Party_of_One_(Peter_Elkas_album)',\n",
       " 'http://kienthuc.net.vn/diem-thi/diem-chuan-dai-hoc-bach-khoa-ha-noi-nam-2014-487293.html',\n",
       " 'http://pikabu.ru/tag/%D0%BC%D0%B8%D0%BD%D0%B8%D0%BC%D0%B0%D0%BB%D0%B8%D0%B7%D0%BC/hot',\n",
       " 'absoluteastronomy.com/topics/Legion_of_Merit',\n",
       " 'thaiairways.com/',\n",
       " 'famouspeople.com/famous_biographies/Lizzie_Stanton.htm',\n",
       " 'triclopsband.com/',\n",
       " 'mp3raid.com/music/lo_key.html',\n",
       " 'amtrakcalifornia.com/index.cfm/routes/san-joaquin/',\n",
       " '4martinique.com/',\n",
       " 'http://extratorrent.cc/torrent/4189694/Linux+User+%26+Developer+-+50+Critical+Fixes+%28Issue+152%2C+2015%29.html',\n",
       " 'dwaynemeisner.com/',\n",
       " 'linkedin.com/pub/john-barkley/7/764/916',\n",
       " 'flyershistory.com/cgi-bin/b-player.cgi?Bernie_Parent',\n",
       " 'topix.com/ca/montreal-qc-montreal-nord',\n",
       " 'trssllc.com/',\n",
       " 'allgame.com/game.php?id=39396',\n",
       " 'renerichardcollections.com/media.html',\n",
       " 'securityfirstinternationalholdings.com/',\n",
       " 'factbites.com/topics/Leyte',\n",
       " 'car-stuff.com/pontiacgrandprixparts.htm',\n",
       " 'usa-people-search.com/Find-Steven-Schwartz-CO.aspx',\n",
       " 'en.wordpress.com/tag/j-pop/',\n",
       " 'pinoyexchange.com/forums/archive/index.php/t-194687.html',\n",
       " 'classicflix.com/buster-keaton-shorts-collection-bluray-1920-1923-p-11169.html',\n",
       " 'vodacom.co.za/',\n",
       " 'uwsuper.edu/alumni/halloffame/individuals.cfm',\n",
       " 'suite.tekora.com/i/philippecoupjambet',\n",
       " 'medicine.mcgill.ca/radiology/home_teachinghospitals.htm',\n",
       " 'http://gizmodo.com/one-year-after-the-first-snowden-leak-whats-really-cha-1586213046/all',\n",
       " 'jbmfilms.com/',\n",
       " 'en.wikipedia.org/wiki/Southeast_High_School_(Kansas_City%2C_Missouri)',\n",
       " 'infopig.com/news/12-08-2009.html',\n",
       " 'http://uproxx.com/dimemag/2015/05/lebron-instagram-like-wants-to-leave-school-to-be-model-she-shouldnt/',\n",
       " 'linkedin.com/pub/tim-stepanski/18/319/149',\n",
       " 'deafresources.info/',\n",
       " 'http://web.tv/liveCategory/17/language/1/index/changeLanguage/newshared/searchAutoComplete',\n",
       " 'juggle.com/gary-pettis',\n",
       " 'weather.noaa.gov/weather/TX_cc_us.html',\n",
       " 'answers.com/topic/the-northern-pikes',\n",
       " 'uk.ask.com/wiki/Lou_Holtz',\n",
       " 'adsoftheworld.com/profile/profile_country/Egypt?page=4',\n",
       " 'lifeskate.com/skate/2009/01/jessica-dub%C3%A9-and-bryce-davison-win-pairs-event-at-2009-canadian-figure-skating-championships.html',\n",
       " 'flixster.com/actor/tyrone-benskin',\n",
       " 'basil-poledouris.thelyricarchive.com/lonesome-dove/',\n",
       " 'monettecn.multiply.com/contacts',\n",
       " 'collegehockeynews.com/news/2010/03/13_quinnipiac.php',\n",
       " 'summitconnects.com/In_the_News/ARCHIVE/2005_06.htm',\n",
       " 'http://yourlust.com/videos/frantic-european-blondie-rocks-the-show-with-masturbation-solo.html',\n",
       " 'dailymotion.com/video/x3ytl9_wcw-superbrawl-1998-part-1_sport',\n",
       " 'imdb.com/name/nm0056924/',\n",
       " 'wn.com/De_La_Rue',\n",
       " 'ehow.com/list_7588256_solar-panel-manufacturing-companies.html',\n",
       " 'prnewswire.com/news-releases/reportlinker-adds-the-top-10-confectionery-companies-84485407.html',\n",
       " 'sanfranciscobay.sierraclub.org/',\n",
       " 'myspace.com/amyryan07',\n",
       " 'placesforafrica.com/exdeo/directions.php',\n",
       " 'hmckc.maestroweb.com/',\n",
       " 'poemhunter.com/poem/the-ten-lepers/',\n",
       " 'fanpop.com/spots/jun-matsumoto/images',\n",
       " 'facecouncil.org/',\n",
       " 'factmonster.com/ce6/people/A0809182.html',\n",
       " 'mylife.com/c-2123302385',\n",
       " 'barnesandnoble.com/w/hero-living-rudy-reyes/1100173214',\n",
       " 'facebook.com/pages/Sergio-Vitanza-Belgrave/179652016207',\n",
       " 'jigsaw.com/scid5327852/peter_m_blaikie.xhtml',\n",
       " 'http://rt.com/in-vision/oles-buzina-last-respects/assassinated-oles-journalist-buzina/',\n",
       " 'http://torcache.net/torrent/2463A34D382BCD98F471FB5A7F028D2B49EBE011.torrent?title=[kickass.to]vmware.workstation.9.0.2.build.1031769.final.serial',\n",
       " 'ihavenet.com/nfl-2008-new-york-giants-aim-to-repeat-as-NFL-champions.html',\n",
       " 'ca.linkedin.com/pub/daniel-belanger/15/b37/b62',\n",
       " '2merkato.com/20110920355/afdb-to-co-finance-ethiopian-power-line-to-kenya',\n",
       " 'jdcarr.com/forsale.htm',\n",
       " 'lyrics.com/cant-hold-us-down-lyrics-christina-aguilera.html',\n",
       " 'croonet.com/start/G_NDg4MDQwMQ%3D%3D/',\n",
       " 'soloautotuning.com/nissan-juke/',\n",
       " 'totalwrestlinguk.co.uk/wcw-ppv.php',\n",
       " 'armchairgm.wikia.com/1957_NCAA_Men%27s_Division_I_Basketball_Tournament',\n",
       " 'facebook.com/TheLateLateShowwithCraigFerguson?filter=3',\n",
       " 'baseball-almanac.com/teamstats/roster.php?y=1985&t=MON',\n",
       " 'alibris.com/search/books/author/Pratt%2C%20Fletcher',\n",
       " 'smartshoppingmontreal.com/store.php?s=146',\n",
       " 'http://elitedaily.com/entertainment/film/uncle-wears-princess-dress-movie-niece/976238/',\n",
       " 'dipity.com/timeline/NTSB-FedEx-Crash/',\n",
       " 'facebook.com/pages/London-Ice-Dawgs-Youth-Hockey-Club/221260881220211',\n",
       " 'legendsofhockey.net/LegendsOfHockey/jsp/SearchPlayer.jsp?player=18648',\n",
       " 'kalamu.com/bol/2008/04/14/kevin-mahogany-%e2%80%9cjust-my-imagination%e2%80%9d/',\n",
       " 'baltimorebeatdown.com/2010/4/20/1433515/baltimore-ravens-2010-schedule',\n",
       " 'mylife.com/roygiff',\n",
       " 'linkedin.com/pub/dir/chris/benoit',\n",
       " 'youtube.com/watch?v=AEXM7LxEwig',\n",
       " 'allposters.co.uk/-st/Tessier-Posters_c82413_.htm',\n",
       " 'montrealselectlimo.com/',\n",
       " 'wiley.com/bw/editors.asp?ref=1098-1616',\n",
       " 'theposselist.com/agencies/indiana/indianapolis/',\n",
       " 'montrealgazette.com/sports/Horror+Hartford+silver+lining/5723049/story.html',\n",
       " 'katu.com/traffic/live',\n",
       " 'http://torcache.net/torrent/C17420F0CEB6D995732BAE67BD73B51B505005EA.torrent?title=[kickass.to]counter.strike.source',\n",
       " 'hollow-art.com/base/jessalyn-gilsig-heroes',\n",
       " 'theglobeandmail.com/life/health/leslie-roberts-works-out-hard-to-overcome-a-poor-family-health-history/article1558802/',\n",
       " 'burbed.com/',\n",
       " 'mylife.com/c-1956134312',\n",
       " 'ca.linkedin.com/pub/dir/Angela/+/ca-4880-Vancouver%2C-Canada-Area',\n",
       " 'mylife.com/damonhenrysr',\n",
       " 'rottentomatoes.com/m/the_swimming_pool/',\n",
       " 'aceshowbiz.com/celebrity/dianne_wiest/',\n",
       " 'https://medium.com/human-parts/the-laziest-coming-out-story-you-ve-ever-heard-a9f877acdd14?source=has-recommended',\n",
       " 'elyrics.net/read/p/prince-lyrics/why-you-wanna-treat-me-so-bad-lyrics.html',\n",
       " 'checksure.biz/directors-da-121.htm',\n",
       " 'people.famouswhy.com/ramzi_yousef/',\n",
       " 'wn.com/Raymond',\n",
       " 'youtube.com/watch?v=aYRauv5oeXQ',\n",
       " 'armchairgm.wikia.com/San_Diego_Chargers',\n",
       " 'imartial.com/',\n",
       " 'theglobeandmail.com/report-on-business/careers/susan-pinker/why-we-cant-really-assess-our-own-skills-and-performance/article1896412/',\n",
       " 'doom.ocremix.org/',\n",
       " 'yidio.com/celebrity/ted+lange',\n",
       " 'mondotimes.com/1/world/ca/63/3144/27447',\n",
       " 'montrealgazette.com/health/Cancer+fight+hits+home+Alouettes+Marc+Olivier+Brouillette/5589710/story.html',\n",
       " 'wanderingcommuter.blogspot.com/2009/10/are-philippine-gay-indie-films-really.html',\n",
       " 'http://qz.com/371908/the-greeks-money-already-stuffed-under-mattresses-may-learn-their-fate-this-weekend/',\n",
       " 'baseball-almanac.com/yearly/yr1887a.shtml',\n",
       " 'worthpoint.com/worthopedia/1881-rogers-silver-plate-tea-pot-sugar-bowl',\n",
       " 'daylife.com/topic/Gabriel_Aubry',\n",
       " 'chnm.gmu.edu/dimenovels/romance_series.html',\n",
       " 'mafiaslugger.blogspot.com/',\n",
       " 'forecaster.thehockeynews.com/hockeynews/hockey/player.cgi?990',\n",
       " 'amazon.com/Lonely-Planet-British-Columbia-Fanselow/dp/1864502207',\n",
       " 'flightsimhangar.com/fsblog/?p=1061',\n",
       " 'comtedegrasse.org/history.html',\n",
       " 'section303.com/jp-dumont-bought-out-by-the-nashville-predators-11886',\n",
       " 'zimbio.com/Marshon+Brooks',\n",
       " 'linkedin.com/pub/dir/donald/harvey',\n",
       " 'scnow.com/sports/2011/mar/18/patriots-reflect-1986-naia-national-championship-ar-1598780/',\n",
       " 'songlyrics.com/doobie-brothers/sweet-maxine-lyrics/',\n",
       " 'http://babal.net/downloads_details/497/%D9%83%D8%A7%D8%B8%D9%85-%D8%A7%D9%84%D8%B3%D8%A7%D9%87%D8%B1---%D8%A7%D9%86%D8%AA-%D8%A7%D9%84%D8%AE%D8%A7%D8%B3%D8%B1',\n",
       " 'http://zozo.jp/shop/americanragcie/?price=proper&p_ssy=2015&p_ssm=5&p_ssd=13&p_sey=2015&p_sem=5&p_sed=13&dstk=2',\n",
       " 'crisiscampmontreal.wordpress.com/',\n",
       " 'broadcasting-history.ca/index3.html?url=http%3A//www.broadcasting-history.ca/stations/tvlinks.html',\n",
       " 'johndouglasmindhunter.com/forums/viewtopic.php?t=6383',\n",
       " 'rachelperry.wordpress.com/2010/07/02/zach-and-angie-houston-wedding-photography/',\n",
       " 'iraqwarheroes.org/wightman.htm',\n",
       " 'legacy.com/obituaries/herald/obituary.aspx?n=jeffrey-m-klein&pid=149024269',\n",
       " 'associatedcontent.com/article/2907580/2010_nfl_predictions_buffalo_bills.html',\n",
       " 'company-formations-ireland.com/companies-registration-office.html',\n",
       " 'eagletribune.com/obituaries/x1305242071/Matilda-Sirois-81',\n",
       " 'funnybumblog.com/just-for-laughs-gags-accidental-shooting-prank/',\n",
       " 'en.wikipedia.org/wiki/Aria_(disambiguation)',\n",
       " 'urbanspoon.com/r/6/764245/restaurant/Locust-Street-Deli-Cafe-Walnut-Creek',\n",
       " 'facebook.com/people/Randall-Moss/1118160021',\n",
       " 'kansas.com/2011/10/25/2076791/a-history-of-kemper-arena-in-pictures.html',\n",
       " 'en.wikipedia.org/wiki/KBWF',\n",
       " 'manta.com/c/mt7wwmh/jason-rhoades',\n",
       " 'amazon.com/Pink-Motel-VHS-Phyllis-Diller/dp/6301930185',\n",
       " 'allensarchiveofearlyoldcountrymusic.blogspot.com/2011/01/fred-van-eps-vess-l-ossman-kings-of.html',\n",
       " 'wn.com/lewislavoie',\n",
       " 'packersnews.greenbaypressgazette.com/article/20111027/PKR01/111027128/Green-Bay-Packers-quarterback-Aaron-Rodgers-zeroing-in-on-record-breaking-season',\n",
       " 'en.wikipedia.org/wiki/Will_Work_for_Food_(TV_show)',\n",
       " 'kwqc.com/Global/story.asp?S=15903666',\n",
       " 'christianacare.org/',\n",
       " 'jets.nhl.com/club/news.htm?id=569847',\n",
       " 'gamefilmexpress.com/',\n",
       " 'wolfslatkin.com/Attorneys/Albert-B-Wolf.shtml',\n",
       " 'tv.com/shows/bewitched/the-house-that-uncle-arthur-built-25554/',\n",
       " 'garybruce.bandcamp.com/',\n",
       " 'facebook.com/people/Chester-Brown/1321855909',\n",
       " 'movies.msn.com/celebrities/celebrity-biography/dean-stockwell/',\n",
       " 'ibnlive.in.com/news/ram-sampath-to-compose-for-rock-the-shaadi/190544-8-66.html',\n",
       " 'washingtonexaminer.com/news/2011/11/safrica-top-politician-faces-bribery-accusations?category=18',\n",
       " 'fordfocus2012.org/',\n",
       " 'salary-money.com/samuel-eto-salary-euro-625000.php',\n",
       " 'classicrockforums.com/forum/f53/rip-jim-clench-10766/',\n",
       " 'youtube.com/watch?v=093nXYvngLc',\n",
       " 'en.wikipedia.org/wiki/List_of_hemophilia_organizations',\n",
       " 'last.fm/music/Arcade+Fire',\n",
       " 'evri.com/person/charles-l.-frink-0x5ae8da',\n",
       " 'en.wikipedia.org/wiki/St._Vincent_Mercy_Children%27s_Hospital',\n",
       " 'pennyfather.com/_nameindex.html',\n",
       " 'soccer365.com/news/u_s_news/m_l_s/6633/de_rosario_named_mls_mvp',\n",
       " 'lindaguarino.com/detail.asp?listingid=w32666&agentid=111138&searchtype=ByCorp',\n",
       " 'facebook.com/pages/CFMB/107472729281906',\n",
       " 'jeopardylabs.com/',\n",
       " 'wn.com/The_Montreal_Star',\n",
       " 'linkedin.com/company/universal-studios',\n",
       " 'http://mixi.jp/share.pl?u=http://alfalfalfa.com/articles/117917.html&k=e09afc106e473491952cfe324aa83aabe5b07446',\n",
       " 'facebook.com/WilburWatson',\n",
       " 'yougabsports.com/pt/The-Almost-All-Time-San-Diego-Chargers/blog.htm',\n",
       " 'filecrop.com/GhostGirl-Tonya-Hurley-loca-por-amor-.pdf.html',\n",
       " 'channel5.com/shows/the-vanessa-show',\n",
       " 'camerchants.com/Canada-City/QC/Quebec/St-Barthelemy',\n",
       " 'videostravelguide.com/Virgin%20Islands/',\n",
       " 'portlandmercury.com/portland/liam-finn-and-the-luyas/Event?oid=3633906',\n",
       " 'uncyclopedia.wikia.com/wiki/New_Zealand',\n",
       " 'en-gb.facebook.com/clementine.bailly',\n",
       " 'http://distractify.com/post/related/id/5540d7154a0c4b3c311f252c/skip/10/limit/10/back/0',\n",
       " 'news.am/eng/news/77114.html',\n",
       " 'buckeyecablesystem.com/lineup/lineup-tol.html',\n",
       " 'omaopioridge.com/',\n",
       " 'http://kakaku.com/kaden/food-processor/ranking_2129/pricedown/div-gpt-ad-k/header_text',\n",
       " 'forbes.com/sites/kitconews/2011/06/10/plan-nords-extension-of-route-167-key-for-mining-in-northern-quebec-stornoway-ceo/',\n",
       " 'athletics.scout.com/2/621936.html',\n",
       " 'portland.daveknows.org/category/sport/timbers/',\n",
       " 'beyondrobson.com/music/2007/02/mixed_bag_book_of_lists_les_georges_leningrad_and_papercuts/',\n",
       " '5tothrive.net/cgi-bin/mt/mt-search.cgi?blog_id=1&tag=kaiser&limit=20',\n",
       " 'en.wikipedia.org/wiki/Maurice_Richard_(film)',\n",
       " 'ussoccer.com/News/Federation-Services/2009/06/University-Of-Miami-President-Donna-E-Shalala-Joins-Team-To-Bring-FIFA-World-Cup-To-United-States-In.aspx',\n",
       " 'washingtondc.bcg.com/',\n",
       " 'spokeo.com/Matthew+Dunkle',\n",
       " 'maxalbums.com/index.php?artist=Loredana%20Groza%20Zaraza',\n",
       " 'http://interpark.com/product/MallDisplay.do?_method=Detail&sc.shopNo=0000100000&sc.dispNo=001930&sc.prdNo=3104163110&bm1=bottom&bm2=prd',\n",
       " 'temple.edu/classics/epic/index.html',\n",
       " 'kotaku.com/5395085/behold-the-single+player-fighting-game',\n",
       " 'multilingualbooks.com/foreignvids-ital.html',\n",
       " 'amazon.com/Born-Losers/dp/B002ZW6YX8',\n",
       " 'bloggn.grainews.ca/scotts_equip/2011/08/agcos-kansas-city-stars.html',\n",
       " 'amazon.com/Barometer-Rising-New-Canadian-Library/dp/0771099916',\n",
       " 'areawidenews.com/story/1495635.html',\n",
       " 'uk.ask.com/wiki/Hershey_Felder',\n",
       " 'http://mylust.com/videos/69734/a-small-cock-of-that-guy-is-still-good-for-this-vintage-whore/',\n",
       " 'cartoonnetwork.com/feedback/index.html',\n",
       " 'twinkacademy.com/index2.htm',\n",
       " 'freepages.genealogy.rootsweb.ancestry.com/~rosdavies/SURNAMES/B/BruBry.htm',\n",
       " 'mortonsauto.com/',\n",
       " 'thecanadianencyclopedia.com/index.cfm?PgNm=TCE&Params=A1ARTA0002467',\n",
       " 'eveningtribune.com/features/x1638744422/Days-until-Sept-11-Remembrances-begin-Wednesday-and-continue-through-10-year-anniversary-or-terror-attacks',\n",
       " 'encycl.opentopia.com/term/KPIX-TV',\n",
       " 'semissourian.com/story/1753207.html',\n",
       " 'capitals.nhl.com/club/page.htm?id=62951',\n",
       " 'manta.com/c/mmdjrmw/walls-alive-paper-hanging-inc',\n",
       " 'richnye.com/',\n",
       " 'bizofbaseball.com/index.php?option=com_content&task=view&id=1899&Itemid=81',\n",
       " 'cincinnati.reds.mlb.com/stats/historical/individual_stats_player.jsp?c_id=cin&playerID=115587&print=true&HS=True',\n",
       " 'en.wikipedia.org/wiki/Dean_Marshall',\n",
       " 'sfgate.com/sports/warriors/',\n",
       " 'http://torcache.net/torrent/A53109A89F38C9D0BACB394E51703AE921F56967.torrent?title=[kickass.to]dum.laga.ke.haisha.2015.720p.blu.ray.hindi.x264.ac3.5.1.mafiaking.m2tv',\n",
       " 'arashixdream.com/2009/08/5x10-mp3-arashi-hidden-track-from-all.html',\n",
       " 'tremblay-alvergne.com/',\n",
       " 'goatlocker.org/oldlogs/oldlogc98.htm',\n",
       " 'telusplanet.net/public/dgarneau/french14.htm',\n",
       " 'en.wikipedia.org/wiki/Jim_Macpherson',\n",
       " 'maa.org/features/012304mathinindustry.html',\n",
       " 'docstoc.com/docs/22027831/Council-on-Foreign-Relations--CFR--Membership-Lists-1950-2005',\n",
       " 'sites.google.com/a/woodplanning.com/www/',\n",
       " 'answers.yahoo.com/question/index?qid=20060825211359AAIp8Zb',\n",
       " 'theonion.com/',\n",
       " 'http://babal.net/photos/46/%D8%A8%D9%86%D8%A7%D8%AA-%D9%84%D8%A8%D9%86%D8%A7%D9%86%D9%8A%D8%A9',\n",
       " 'docstoc.com/docs/66806077/1996-FORD-F-SERIES',\n",
       " 'm2movie.blogspot.com/2011/05/watch-game-2011-hindi-movie-online.html',\n",
       " 'navweaps.com/index_reunions/reunion_usn_E.htm',\n",
       " 'onlineradio2.com/listen/Mix_933',\n",
       " 'mapsofworld.com/usa/states/california/california-county-map.html',\n",
       " 'video.ca.msn.com/watch/video/dog-kills-quebec-baby/16a6etkt7',\n",
       " 'http://torrentdn.com/bbs/s.php?bo_table=torrent_util&wr_id=15244&k=%ED%8F%AC%ED%86%A0%EC%83%B5&page=1',\n",
       " 'youtube.com/watch?v=tzooZPZEqwk',\n",
       " 'careers.state.gov/',\n",
       " 'elyrics.net/read/a/audrye-sessions-lyrics/relentless-lyrics.html',\n",
       " 'onestophelp.state.mi.us/wiki/Limited_Liability_Partnership',\n",
       " 'http://thenextweb.com/insider/2015/05/13/9-notable-young-companies-from-the-500-startups-demo-extravaganza/gtm.start',\n",
       " 'insidemnsoccer.com/2010/01/29/q-and-a-with-andrew-nestor-owner-president-and-ceo-of-fc-tampa-bay-rowdies-soccer/',\n",
       " 'amazon.com/Vanity-Fair-ebook/dp/B000JQUGVI',\n",
       " 'trulia.com/schools/NY-Tarrytown/E_F_International_Academy/',\n",
       " 'metalodyssey.wordpress.com/',\n",
       " 'infoplease.com/ipa/A0855603.html',\n",
       " 'tcm.com/tcmdb/title/3073/These-Glamour-Girls/',\n",
       " 'facebook.com/demerson1',\n",
       " 'gomarquette.com/',\n",
       " 'ycharts.com/indices/%5EINX',\n",
       " 'iamachild.wordpress.com/2010/12/20/frederic-henri-schopin-1804-1880-french/',\n",
       " 'imdb.com/name/nm0185045/',\n",
       " 'tallen.cutlerhomes.com/',\n",
       " 'answers.com/topic/robert-francis',\n",
       " 'dipity.com/gordonp/Japanese_Science_Fiction_Fantasy_Horror_Films/',\n",
       " 'genforum.genealogy.com/cochrane/',\n",
       " 'lost-in-translation.com/',\n",
       " 'tampabay.com/news/publicsafety/crime/clearwater-police-man-dropped-9-month-old-because-she-cried/1195251',\n",
       " 'rightsideva.blogspot.com/2010/11/is-hockey-stick-prof-michael-mann.html',\n",
       " 'dictionary.sensagent.com/Sandro/en-en/',\n",
       " 'bartleby.com/100/437.html',\n",
       " 'altpress.com/features/entry/exclusive_stream_blaqk_audios_afterdark',\n",
       " 'fangraphs.com/blogs/index.php/wally-pipping-jason-heyward/',\n",
       " 'thedublinguide.com/',\n",
       " 'sagedata.com/the_company/our-clients.html',\n",
       " 'associatedcontent.com/article/5436606/largest_cities_in_north_dakota_2011.html',\n",
       " 'fcfighter.stores.yahoo.net/superbrawls.html',\n",
       " 'faqs.ign.com/objects/142/14260594.html',\n",
       " 'evri.com/organization/kcwe-0x135a9c',\n",
       " 'music.yahoo.com/econochrist/',\n",
       " '1972topps.blogspot.com/2009/03/77-ron-theobald.html',\n",
       " 'canadastop100.com/montreal/',\n",
       " 'aklgammabeta.com/',\n",
       " 'beaconforchange.com/municipalteam.html',\n",
       " 'movi.ca/actor-first/Paul/',\n",
       " 'http://thenextweb.com/in/2014/11/13/uber-introduces-paytm-digital-wallet-payments-india-response-new-e-commerce-ruling/',\n",
       " 'mixedmartialarts.com/mma.cfm?go=blogs.Detail&gid=28490',\n",
       " 'healthgrades.com/group-directory/minnesota-mn/le-center/le-sueur-county-mental-health-svs-b82a27b9',\n",
       " 'http://mic.com/articles/89573/12-biggest-lies-we-re-told-in-college-graduation-speeches',\n",
       " 'catalog.ccclib.org/',\n",
       " 'blog.sfgate.com/inoakland/2011/07/04/cyclist-reported-missing-in-oaklandberkeley-hills/',\n",
       " 'cityunionmission.org/about/partners/fiorellas-jack-stack-barbecue',\n",
       " 'brookislandrecords.com/',\n",
       " 'people.famouswhy.com/peter_mitchell/',\n",
       " 'youtube.com/watch?v=39d3WECNSSA',\n",
       " 'abebooks.com/book-search/title/five-roses-cook-book/',\n",
       " 'articles.sfgate.com/2011-06-11/opinion/29645960_1_chauncey-bailey-project-bakery-handyman-antoine-mackey',\n",
       " 'kalispellchristiancenter.org/team_bishop.html',\n",
       " 'utahutes.cstv.com/sports/w-gym/mtt/damianova_nansy02.html',\n",
       " 'la.findacase.com/research/wfrmDocViewer.aspx/xq/fac/SAC/LA/1995/19951215_0003029.LA.htm/qx',\n",
       " 'beijingairlinetickets.com/',\n",
       " 'uncyclopedia.wikia.com/wiki/Gilles_Duceppe',\n",
       " 'whosdatedwho.com/sections/celebrities/first-name/Jeff',\n",
       " 'dibussi.com/2010/10/unpacking-a-chinese-companys-land-grab-in-cameroon.html',\n",
       " 'missouriwrestling.com/news.php?recordID=300',\n",
       " 'amazon.com/Cherry-Falls-Terror-Brittany-Murphy/dp/B000056PXL',\n",
       " 'https://hollywoodlife.com/2015/05/14/new-york-rangers-beat-washington-capitals-overtime-game-7-fan-reaction/',\n",
       " 'worldtimezone.net/time/wtzstandard.php?listsw=namerica&sorttb=CountryID',\n",
       " 'blueslyrics.tripod.com/artistswithsongs/jimmy_reed_2.htm',\n",
       " 'en.wikipedia.org/wiki/Category:County_seats_in_Pennsylvania',\n",
       " 'ca.local.yahoo.com/results?stx=bibliotheque&csz=St-Bruno-de-Montarville%2C%20QC',\n",
       " 'en.wikipedia.org/wiki/Honor%C3%A9_Mercier',\n",
       " 'mp3raid.com/music/justin_mcroberts.html',\n",
       " 'agrimonia.info/',\n",
       " 'big-game-hunting-usa.com/',\n",
       " 'californiazones.net/login.asp',\n",
       " 'en.wikipedia.org/wiki/Marcus_Moore',\n",
       " 'maritimeupdates.com/index.php?option=com_content&amp;task=view&amp;id=38724&amp;Itemid=69',\n",
       " 'huffingtonpost.com/2011/05/20/big-ten-athletes_n_864982.html',\n",
       " 'maryvilleac.web139.discountasp.net/subpages.asp?id=28&parentid=6',\n",
       " 'legacy.com/guestbook/washingtonpost/guestbook.aspx?n=michael-anthony-jordan&pid=16394973&page=2',\n",
       " 'chuckhawks.com/45Colt.htm',\n",
       " 'allaboutjazz.com/php/musician.php?id=7574',\n",
       " 'lincolnchristian.edu/Seminary/',\n",
       " 'yangamat.com/?p=1865',\n",
       " 'mymindseye.com/',\n",
       " 'blog.syracuse.com/parish/index.html',\n",
       " 'whoabc.com/harrison-ford/',\n",
       " 'century21town-country.com/Property/MI/48322/West_Bloomfield/5436_PAUL_LOUIS_LN',\n",
       " 'igea.net/',\n",
       " 'evri.com/person/graeme-dunstan-0x58f76',\n",
       " 'baseballjump.com/baseball-memorabilia/kansas-city-royals',\n",
       " 'http://thenextweb.com/insider/2015/05/05/foursquare-leverages-its-geolocation-technology-with-location-cloud-and-places/',\n",
       " 'interceder.net/topic/ciccone',\n",
       " 'ussoccer.com/News/U-17-MNT/2005/12/U-S-U-17-MNT-Fall-2-0-To-Mexico-At-Los-Angeles-Memorial-Coliseum.aspx',\n",
       " 'jbworld.jbs.st-louis.mo.us/',\n",
       " 'http://twitter.com/home?status=%E3%83%8C%E3%81%91%E3%82%8B%EF%BC%81%E3%80%90%E7%BE%8E%E5%B0%91%E5%A5%B3%E3%80%91+http%3A%2F%2Fero-video.net%2Ft%2FmAsWlaomtJkLLbgk+%E6%95%99%E3%81%88%E5%AD%90%E3%81%AF%E7%BE%8E%E3%83%9E%E3%83%B3%E5%A5%B3%E5%AD%90%E6%A0%A1%E7%94%9F+%23ero+%23douga+%23agesage',\n",
       " 'gothiclolitawigs.deviantart.com/',\n",
       " 'http://haberler.com/galatasaray-mersin-idman-yurdu-nu-1-0-yendi-7303426-haberi-yorumlari/',\n",
       " 'archive.org/stream/morenosdictionar00morerich/morenosdictionar00morerich_djvu.txt',\n",
       " 'http://cheezburger.com/8440974848/funny-fail-photo-portrait-bobby-jindal-politics?ref=rightarrow&siteId=1264',\n",
       " 'bergschneiderfamily.com/Bergschneider_Family_Newsletter/news.html',\n",
       " 'linkedin.com/pub/dir/mike/gibbons',\n",
       " 'youtube.com/watch?v=vt8vA1v3hyo',\n",
       " 'soa.sys-con.com/node/380232',\n",
       " 'evri.com/person/s.-jay-plager-0x376ac',\n",
       " 'http://tobogo.net/cdsb/board.php?board=issue&bm=view&no=2338&category=&auth=&page=1&search=&keyword=&recom=',\n",
       " 'heritageapp.cyr.gov.sk.ca/public/',\n",
       " 'mastersoftrivia.com/blog/2011/06/june-20th-in-history-it-happened-today/',\n",
       " 'eduplace.com/kids/mhm/',\n",
       " 'carto.net/neumann/photographs/2007/kerzers_papiliorama_2007_11_04/12_white_tree_nymph_weisse_baumnymphe_idea_leuconoe.html',\n",
       " 'bigbandpdfs.com/',\n",
       " 'cms.skidmore.edu/odsp/programs/arts/flute/faculty.cfm',\n",
       " 'lima-ny.org/',\n",
       " 'en.wikipedia.org/wiki/Lartigue',\n",
       " 'http://icicibank.com/Personal-Banking/insurance/general-insurance/health-insurance/index.page',\n",
       " 'topix.com/ca/cabano-qc',\n",
       " 'lyrics007.com/Planet%20Smashers%20Lyrics/Janice%20Lyrics.html',\n",
       " 'conservapedia.com/Republican_Party',\n",
       " 'icehockey.wikia.com/wiki/Jesse_Scanzano',\n",
       " 'iagenweb.org/madison/marriage_records/mr_marston-maxon.html',\n",
       " 'punkkie.wordpress.com/2011/11/03/spiritualized-ladies-and-gentlemen-we-are-floating-in-space-2/',\n",
       " 'wilsonstatebank.net/',\n",
       " 'weddingwire.com/wedding-songs/garter-removal-music/wanna-be-your-lover/943a52b86500a099.html',\n",
       " 'facebook.com/SkyeBlueC',\n",
       " 'http://motthegioi.vn/tin-tuc/thoi-quen-an-nhieu-dua-ca-cua-nguoi-viet-khien-benh-ung-thu-tang-cao-188148.html',\n",
       " 'isthisyour.name/directory/fullnames/ma~pelton.htm',\n",
       " 'wikitree.com/genealogy/De%20Chauvigny-Family-Tree-6',\n",
       " 'new.ca.music.yahoo.com/josh/',\n",
       " 'ehow.com/video_4766621_invest-privately-held-company.html',\n",
       " 'youtube.com/watch?v=mgMZ8ZNajpg',\n",
       " 'sertoma-gl-region.org/',\n",
       " 'vale-healthcare.com/hand-clinic/',\n",
       " 'imdb.com/name/nm0589603/',\n",
       " 'quotes-famous.com/person/Lionel-Tiger-quotes.html',\n",
       " 'http://torcache.net/torrent/722B98D9F645DF03E5D760EBD58F8D36A6EAFF3B.torrent?title=[kickass.to]sword.of.vengeance.2015.720p.brrip.x264.yify',\n",
       " 'gouldsminorhockey.com/news.php',\n",
       " 'hotnewsofday.com/college-football-hall-of-fame.html',\n",
       " 'thefreelibrary.com/The+Hockey+Company+Holdings+Inc.+Announces+Acquisition+of+Lifestyle...-a0106768219',\n",
       " 'mylife.com/c-1232369030',\n",
       " 'cableslovenia.com/',\n",
       " 'hotladybody.com/2010/08/making-of-brazilian-playboy-cleo-pires.html',\n",
       " 'sideshowtoy.com/?page_id=4489&sku=9004721',\n",
       " 'hobbylinc.com/htm/bac/bac50906.htm?source=froogle',\n",
       " 'mind-world.com/',\n",
       " 'pipl.com/directory/name/Lillie/Kathleen',\n",
       " 'asunderpress.com/',\n",
       " 'http://dribbble.com/shots/1269523-Sperant-mobile-sidebar-concepts/attachments/174429',\n",
       " 'ababmx.com/index.php?page=default/halloffame&year=1999',\n",
       " 'glassdoor.com/Job/Grassroots-Campaigns-Inc-Jobs-E149346.htm',\n",
       " 'amazon.com/Songs-Debussy/dp/B00007FKRI',\n",
       " 'http://torcache.net/torrent/3B72AAC22AE198BDF5CD9EDE72F8E118E8371008.torrent?title=[kickass.to]game.of.thrones.s05e05.720p.hdtv.x264.0sec',\n",
       " 'yelp.ca/biz/jean-jacques-campeau-gatineau',\n",
       " 'google.com/hostednews/afp/article/ALeqM5iK8qoGy6KCQ835kZ1ps-VBbCEmqg?docId=CNG.70c74f0238858f49a6b97a2c9ed0618b.71',\n",
       " 'http://deadspin.com/5746724/is-erin-andrews-reebok-endorsement-deal-journalistically-unethical',\n",
       " 'en.wikipedia.org/wiki/Pierre_Dupuy',\n",
       " 'forums.lazygirls.info/419484.html',\n",
       " 'wn.com/American_Football_League',\n",
       " 'reviews.creditkarma.com/credit-unions/communityamerica-credit-union1/1/',\n",
       " 'r1ma.blogspot.com/2011/11/anais-pouliot-in-diva-by-anthony-maule.html',\n",
       " 'songlyrics.com/arrogant-worms-the/the-happy-happy-birthday-song-lyrics/',\n",
       " 'northjersey.com/news/022411_Report_recommends_scrapping_urban_enterprise_zones.html',\n",
       " 'flixster.com/videos',\n",
       " 'en.wikipedia.org/wiki/Francine_Lalonde',\n",
       " 'shgresources.com/ca/timeline/',\n",
       " 'lemonamiga.com/?game_id=352',\n",
       " 'mylife.com/laurakjohnson82',\n",
       " 'how-to-kiss.net/types-of-kisses.php',\n",
       " 'ca.linkedin.com/pub/shannon-gaskell/14/262/100',\n",
       " 'jackianderson.com/',\n",
       " 'tvrage.com/person/id-34775/Hans+Conried',\n",
       " 'alkire.org/gen/ohio/d0033/f0000003.html',\n",
       " 'wendylynncustomhomes.com/',\n",
       " 'biomedexperts.com/Profile.bme/282390/Fran%c3%a7ois_Dabis',\n",
       " 'afcubridge.org/',\n",
       " 'archives.cbc.ca/society/religion_spirituality/clips/6024/',\n",
       " 'bonjourlafrance.com/france-history/bourbon-dynasty.htm',\n",
       " 'everyguitarist.com/billie_joe_armstrong.htm',\n",
       " 'myeasyauction.com/',\n",
       " 'psychology.wikia.com/wiki/Ian_Stevenson',\n",
       " 'familysearch.org/learn/wiki/en/Lenawee_County%2C_Michigan',\n",
       " 'sciway.net/statistics/scsa98/tr/tr12.html',\n",
       " 'twaflightattendants.com/liftoffhtml/historytimeline.html',\n",
       " 'corporationwiki.com/Florida/Miami/shakir-saafir-P6169609.aspx',\n",
       " 'nils-fabisch.de/',\n",
       " 'deiradios.radio-dealers.com/aboutus.cfm?did=4c4e5e54-af9a-4c14-a266-b11c54e7a4e0&cat_id=1',\n",
       " 'http://nguyentandung.org/141-ha-noi-phat-hien-nhanh-2-xe-di-muon-la-xe-trom-cap.html',\n",
       " 'britannica.com/EBchecked/topic/59931/Saul-Bellow',\n",
       " 'jennieo.com/',\n",
       " 'songlyrics.com/flipsyde/laserbeam-lyrics/',\n",
       " 'vertor.com/download/la+donna+della+mia++vita',\n",
       " 'reunion.com/richardbolen/',\n",
       " 'en.wikipedia.org/wiki/Ross_Macdonald',\n",
       " 'imdb.com/name/nm1884657/bio',\n",
       " 'famouspoetsandpoems.com/poets/maya_angelou/biography',\n",
       " 'cleveland.com/arts/index.ssf/2010/04/community_theaters_in_northeas.html',\n",
       " 'en.wikipedia.org/wiki/List_of_counties_in_California',\n",
       " 'docstoc.com/docs/6132660/History_of_Stoke_City_FC',\n",
       " 'wsn.com/football/norwegian-2-division-avd-2-fixtures/',\n",
       " 'http://tobogo.net/cdsb/board.php?board=storymusic&bm=view&no=250&category=&auth=&page=1&search=&keyword=&recom=',\n",
       " 'imdb.com/keyword/erotic-thriller/',\n",
       " 'starpulse.com/Music/Shakira/Discography/album/P174707/R744021/',\n",
       " 'sportsillustrated.cnn.com/vault/article/magazine/MAG1006891/index.htm',\n",
       " 'mailtribune.com/apps/pbcs.dll/article?AID=/20110719/NEWS/107190317',\n",
       " 'reading-glasses.bttradespace.com/our-galleries/designer-eyewear/gallery-item?mediaId=759870EFDA70C63EE0401BAC7101193D',\n",
       " 'babepedia.com/babe/Lanny_Barby',\n",
       " 'spokeo.com/Brian+Watts',\n",
       " 'whatifsports.com/nfl-l/profile_team.asp?hfid=26',\n",
       " 'whatisjameswearing.com/george-smith-showrooms/',\n",
       " 'http://olx.co.id/i2/jasa-lowongan-kerja/jasa/jasa-lainnya/jasa-lowongan-kerja/jasa/jasa-lainnya',\n",
       " 'freebase.com/view/en/commerce_bancshares',\n",
       " 'filmsandtv.com/movies/danielpilon.php',\n",
       " 'videosurf.com/the-ellen-degeneres-show-17804',\n",
       " 'pipl.com/directory/people/gary/sabaugh',\n",
       " 'discogs.com/Pixies-Trompe-Le-Monde/master/16797',\n",
       " 'stacey-hannant.co.uk/',\n",
       " 'americansoccernews.net/2009/op-ed/a-business-model-for-american-specifically-mls-soccer-news/',\n",
       " 'beakey.familytreeguide.com/descend.php?personID=I4596&tree=Beakey%202007',\n",
       " 'sanfrancisco.cbslocal.com/2011/09/04/livermore-soldier-dies-of-rabies/',\n",
       " 'wordiq.com/definition/Public_art',\n",
       " 'fanbase.com/Syracuse-Orange-Mens-Basketball-1999-00',\n",
       " 'dc.about.com/od/museums/p/NaturalHistory.htm',\n",
       " 'freebase.com/view/en/cincinnati_bengals',\n",
       " 'yellowpages.ca/bus/Quebec/Laval/Sports-Autoroute-13-Inc/7541800.html',\n",
       " 'http://allrecipes.com/video/4124/cheesy-broccoli-puffs-with-sriracha-sauce/detail.aspx?prop24=VH_Brands',\n",
       " 'blockbuster.com/browse/catalog/personDetails/75406',\n",
       " 'web.sau.edu/athletics/athletics/football/news/2005/gameday_stuff/Morningside/Welcome%20to%20the%20GPAC%20Home%20Page%20-%20The%20Great%20Plains%20Athletic%20Conference.htm',\n",
       " 'forum.fullsextube.com/vintage-videos-movies/26800-%5Brs%5D-nothing-hide-2-1993-tianna-roxanne-blaze.html',\n",
       " 'be.linkedin.com/pub/jan-roels/27/141/746',\n",
       " 'youtube.com/watch?v=EcGsM-PNQHQ',\n",
       " 'bloomberg.com/news/2011-08-28/dust-bowl-in-texas-means-cotton-bottoming-with-rick-perry-praying-for-rain.html',\n",
       " 'innerearbrigade.com/',\n",
       " 'brokenbells.com/',\n",
       " 'missouri.scout.com/2/1091275.html',\n",
       " 'amazon.com/Inter-Municipal-Cooperation-Europe-Rudie-Hulst/dp/1402053789',\n",
       " 'amazon.com/Best-Mississippi-John-Hurt/dp/B000000EBH',\n",
       " 'http://olx.ro/i2/electronice-si-electrocasnice/gps-navigatie/electronice-si-electrocasnice/gps-navigatie',\n",
       " 'ccpoa.org/news/monthly/2009/10/',\n",
       " 'youtube.com/watch?v=bMhwK4hjhwQ',\n",
       " 'dougpayne.com/earland.htm',\n",
       " '123people.com/z/carl+musgrove',\n",
       " 'http://superuser.com/questions/811630/how-can-i-limit-the-speed-of-the-chasis-fan-on-an-asus-m5a78l-m-lx-plus',\n",
       " 'espn.go.com/mlb/player/_/id/5588/rich-harden',\n",
       " 'youtube.com/watch?v=vPJNYrZcxuE',\n",
       " 'imdb.com/name/nm0017578/',\n",
       " 'youtube.com/watch?v=pAihoSDRqjo',\n",
       " 'mlbfansite.com/team-memorabilia/new-york-mets/baseball-apparel/',\n",
       " 'spoke.com/info/pApLvZA/JohnHazlet',\n",
       " 'ckuik.com/Stray_Cats',\n",
       " 'http://espn.go.com/blog/carolina-panthers/post/_/id/12919/why-the-panthers-are-spending-time-with-nebraska-end-randy-gregory',\n",
       " 'radiocity.com/',\n",
       " 'absoluteanime.com/blue_gender/yuji.htm',\n",
       " 'http://elitedaily.com/humor/guys-donkey-prank-women-thinking-being-catcalled-video/922767/',\n",
       " 'mylife.com/c-466561956',\n",
       " 'paragonvideo.com/',\n",
       " 'sbnation.com/mlb/players/33977/lars-anderson',\n",
       " 'imdb.com/name/nm0187981/',\n",
       " 'classcreator.com/Jacksonville-FL-Bishop-Kenny-1970/class_classmates.cfm',\n",
       " 'songlyrics.com/kate-anna-mcgarrigle-lyrics/',\n",
       " 'en.wikipedia.org/wiki/Robert_Crouch_Kinney',\n",
       " 'search.espn.go.com/corey-hart/',\n",
       " 'celebnakedness.com/tour/videoarchive.php?celeb_first_name=j',\n",
       " 'springvalleysales.com/',\n",
       " 'lil-fingers.com/abc/a.html',\n",
       " 'bookfinder4u.com/detail/096201074X.html',\n",
       " 'roadrunnerrecords.com/blabbermouth.net/news.aspx?mode=Article&newsitemID=156745',\n",
       " 'dallasnews.com/sports/dallas-stars/headlines/20111001-stars-address-an-issue-that-led-to-their-demise-last-season.ece',\n",
       " 'pipl.com/directory/people/Anne/Blodgett',\n",
       " 'epctv.com/online_tv_Educational_1.htm',\n",
       " 'usgs.gov/state/state.asp?State=WA',\n",
       " 'banquelaurentienne.ca/en/personal_banking_services/my_futur/indexed_investments.html',\n",
       " 'videosurf.com/mad-about-mambo-81415',\n",
       " 'allstarpics.net/pic-gallery/marie-josee-croze-pics.htm',\n",
       " 'facebook.com/PonyUpRescue',\n",
       " 'projects.latimes.com/hollywood/star-walk/rory-calhoun/',\n",
       " 'dublinbus.ie/',\n",
       " 'chess.com/news/ivan-salgado-wins-in-barcelona-2854',\n",
       " 'petershurman.com/',\n",
       " 'jent-fanfics.livejournal.com/profile',\n",
       " 'ca.linkedin.com/in/yvesyau',\n",
       " 'hotels.com/de1690365/hotels-near-saint-laurent-montreal-canada/',\n",
       " 'westport-news.com/news/article/BOE-to-vote-on-new-Bedford-Middle-School-principal-468858.php',\n",
       " 'czechsouvenirs.com/czech-dvd/',\n",
       " 'facebook.com/pages/Queens-Park-Rangers-FC/32792126803',\n",
       " 'euroflyulm.com/',\n",
       " 'tao-garden.com/Inst1/',\n",
       " 'facebook.com/people/ConceptElite-St-Dorothee/100000964403664',\n",
       " 'en.wikipedia.org/wiki/Headspace_(Pulse_Ultra_album)',\n",
       " 'cdbaby.com/cd/vermillionlies',\n",
       " 'facebook.com/pages/Melanie-Morgan/150570901699938',\n",
       " 'mc-hammer.deviantart.com/',\n",
       " 'drbizzy.com/',\n",
       " 'info-world.com/',\n",
       " 'batlyrics.com/come_to_me-lyrics-france_joli.html',\n",
       " 'http://seekingalpha.com/author/dividends4life/research?source=follow_top_learn_more',\n",
       " 'huffingtonpost.com/dan-aykroyd',\n",
       " 'facebook.com/andrews.megan',\n",
       " 'bmcaluniv.org/',\n",
       " 'bradleyhillel.org/',\n",
       " 'tempest-inc.com/',\n",
       " 'us.macmillan.com/author/rhodajanzen',\n",
       " 'wordtravels.com/Attractions/?attraction=2525',\n",
       " 'nme.com/artists/joe-brown',\n",
       " 'en.wikipedia.org/wiki/1969_NCAA_Men%27s_Division_I_Basketball_Tournament',\n",
       " 'britannica.com/EBchecked/topic/461108/Steven-Pinker',\n",
       " 'craftconn.com/genealogy/dit.htm',\n",
       " 'andreas-olsson.com/',\n",
       " 'fortworthtejano.com/news_letter__hispanic_heritage_month_',\n",
       " 'yell.com/b/Rolf+C+Hagen+(UK)+Ltd-Pet+Supplies-Castleford-WF105QH-1018773/index.html',\n",
       " 'myspace.com/aundrone',\n",
       " 'https://paytm.com/blog/vijay-shekahr-sharma-on-building-finance-infrastructure-for-smes/?share=email',\n",
       " 'r2wracing.com/hp_wordpress/',\n",
       " 'facebook.com/philippe.turcotte1',\n",
       " 'mmaroot.com/nate-quarry-vs-kalib-starnes-ufc-83-video/',\n",
       " 'tezmilleroz.wordpress.com/2011/10/22/7-new-covers-banks-dane-clark-crane-dane-ellison-leicht-neal-roberts/',\n",
       " 'artquotes.net/masters/nathan-oliveira/index.htm',\n",
       " 'lindseybiggs.com/',\n",
       " 'facebook.com/russel.hamilton',\n",
       " 'provigo-boul-hull.foodpages.ca/?qqq=FAQ',\n",
       " 'photovault.com/Link/Cities/Lake/Ohio/Places/FootballHallOfFame.html',\n",
       " 'wikitree.com/genealogy/STEWART',\n",
       " 'missouririverrunners.com/',\n",
       " 'thenhf.com/article.php?id=2113',\n",
       " 'lyricsmode.com/lyrics/m/michael_franti/',\n",
       " 'iwishiknewit.com/',\n",
       " 'jasa-blues.blogspot.com/',\n",
       " 'pubsub.com/Senior-Java-Engineer-at-GrubHubcom-Webster-Elston-National-Signing-Day-P8kaW9K1wIS',\n",
       " 'hfboards.com/showthread.php?p=28056476',\n",
       " 'http://sourceforge.net/directory/development/add_facet_filter?facet=license&constraint=OSI-Approved+Open+Source+%3A%3A+Eclipse+Public+License',\n",
       " '123people.ca/s/david+murray',\n",
       " 'naval-history.net/WW1NavyBritishLGNavalPrizeMoney.htm',\n",
       " 'artistonlineradio.com/',\n",
       " 'myspace.com/epic.ben',\n",
       " 'http://torcache.net/torrent/9154FAAD712957FD02C9507EB9A583DF724A7683.torrent?title=[kickass.to]grand.theft.auto.v.reloaded',\n",
       " 'coffeyforjudge.com/',\n",
       " 'gigmasters.com/',\n",
       " 'kansas-city-news.pro/2009/07/kansas-city-is-number-1-abandoned-city.html',\n",
       " 'cduniverse.com/productinfo.asp?pid=8114106',\n",
       " 'collider.com/focus-features-seeking-a-friend-for-the-end-of-the-world/89762/',\n",
       " 'legacy.com/obituaries/roanoke/obituary.aspx?n=evelyn-alice-terry-slusher&pid=154726502',\n",
       " 'realgm.com/src_playerfile/1372/joel_anthony/',\n",
       " 'amazon.com/Animated-Films-Don-Bluth/dp/0685503348',\n",
       " 'http://techcrunch.com/2013/06/09/first-cut-pro-just-made-post-production-collaborative-video-editing-much-less-painful/',\n",
       " 'newbernnchotels.com/',\n",
       " '123people.ca/s/georges+arsenault',\n",
       " 'commons.wikimedia.org/wiki/Category:1956_births',\n",
       " 'netglimse.com/celebs/pages/sylvia_earle/index.shtml',\n",
       " 'allmusic.com/album/fenix-tx-r423666',\n",
       " 'stuffaboutnames.com/dennis/index.htm',\n",
       " 'facebook.com/people/Catherine-Archer/1559547281',\n",
       " 'slovenia.info/?cerkev=4914',\n",
       " 'http://mic.com/articles/97512/here-s-the-one-simple-reason-why-we-need-more-openly-bisexual-characters-on-television',\n",
       " 'http://ecnavi.jp/redirect/?url=http://ad-4091.affit.jp/c.ts/35n.2/-/1g.html?mu=%user_id%',\n",
       " 'kentucky.com/2011/11/14/1959369/oakland-and-alabama-tangle-in.html',\n",
       " 'youtube.com/watch?v=9FgXy7QyLDo',\n",
       " 'onlinetickets.com/events/sports_nfl/houston_texans/tickets.html',\n",
       " 'aceshowbiz.com/news/view/w0006245.html',\n",
       " 'en.wikipedia.org/wiki/William_Tummel',\n",
       " 'fisherpaykel.com/',\n",
       " 'uk.ask.com/wiki/Charles-Fran%C3%A7ois_Dupuis',\n",
       " 'mylife.com/high-schools/ca/sacramento/luther-burbank-high-school/',\n",
       " 'aaanimalcontrol.com/Professional-Trapper/county/IN-Allen-County-Animal-Services.htm',\n",
       " 'makivik.org/makivik-corporation-and-the-kativik-regional-government-welcome-visit-of-minister-of-justice-yvon-marcoux-and-minister-for-native-affairs-for-quebec-geoffrey-kelley-to-nunavik/',\n",
       " 'fleshspot.com/sites/arielrebel/',\n",
       " 'http://mashable.com/category/spacex/2014/04/25/elon-musk-spacex-booster-stage-atlantic',\n",
       " 'txdot.lib.utexas.edu/',\n",
       " 'jonathanturley.org/2011/04/01/army-sergeant-convicted-of-threatening-a-judge-due-to-one-line-in-a-song/',\n",
       " 'en.wikipedia.org/wiki/Vietnam_War',\n",
       " 'miningforthetruthinmelancthon.blogspot.com/',\n",
       " 'st-ives-ceramics.co.uk/potters.asp?view=Francoise%20Dufayard',\n",
       " 'youtube.com/watch?v=hekL0DCUxpk',\n",
       " \"yourottawaregion.com/what's%20on/article/259704--ctv-s-dr-marla-shapiro-in-kemptville\",\n",
       " 'thecanadianencyclopedia.com/index.cfm?PgNm=TCE&Params=A1ARTA0006315',\n",
       " 'yasni.com/naima+kamel/check+people',\n",
       " 'bottomlinecom.com/kcnews/alexroleatkshbchanges.html',\n",
       " 'amazon.com/David-Bowie-Reality-Tour/dp/B00064AEOC',\n",
       " 'allposters.co.uk/-st/Helene-Leveillee-Posters_c117522_.htm',\n",
       " 'bizjournals.com/kansascity/news/2010/12/08/bannister-mall-sites-latest-plan.html',\n",
       " 'myhugeclit.com/female/female-bodybuilders/',\n",
       " 'ckuik.com/Kabhi_Alvida_Na_Kehna',\n",
       " 'en.wikipedia.org/wiki/Joan_I_of_Navarre',\n",
       " 'http://nypost.com/2014/06/16/bridge-failures-snarled-metro-north-service-175-times-in-ct-last-year/',\n",
       " 'scarlettjohansson.org/movies/themanwhowasntthere.htm',\n",
       " 'crossdresserclub.com/home/printthread.php?t=2851&page=3&pp=40',\n",
       " 'myspace.com/imusicidemontrealcho',\n",
       " 'broadwayworld.com/gallery.cfm?letter=a',\n",
       " 'engineering.com/Library/tabid/78/Default.aspx',\n",
       " 'drscore.com/Georgia/Cardiology/search/William-Weintraub_10791399.html',\n",
       " 'dvbs.eu.org/perrault/',\n",
       " 'sunlifebuilding-phil.com/',\n",
       " 'italy-weather-and-maps.com/',\n",
       " 'digital-copyright.ca/node/5337',\n",
       " '518fever.com/',\n",
       " 'vaughnclark.com/',\n",
       " 'manta.com/ic/mt6v6sz/ca/universite-du-quebec-a-montreal',\n",
       " 'http://serverfault.com/questions/674326/remote-location-management-copy-and-install-large-software-updates-to-50-lan',\n",
       " 'missouridairygoats.com/',\n",
       " 'en.wikipedia.org/wiki/2000_Oakland_Athletics_season',\n",
       " 'vitals.com/doctors/Dr_Vanoy_Smith.html',\n",
       " 'owha.on.ca/news_release_helmet_recall_08.asp',\n",
       " 'robinhoodfilms.com/thecasinojob.htm',\n",
       " 'smithgroup.com/?id=415',\n",
       " 'hockeyfights.com/players/16890',\n",
       " 'findpeoplesearchonline.com/rhodeIslandpeoplesearch-RI/findpeoplerhodeIsland.html',\n",
       " 'facebook.com/john.m.whitcomb',\n",
       " 'discountcheapaccessories.com/rubies-costume-co/best-buy-rubies-costume-co-womens-secret-wishes-tarzan-hunter-jane-costume.html',\n",
       " 'cartoonhalloffame.org/2005/12/iwerks-ub.html',\n",
       " 'ohwy.com/mo/m/mocity.htm',\n",
       " 'aveleyman.com/ActorCredit.aspx?ActorID=3389',\n",
       " 'fraser.stlouisfed.org/publications/holc/',\n",
       " 'u.tv/Sport',\n",
       " 'audiorecordingschool.com/blog/category/game-audio/',\n",
       " 'en.wikipedia.org/wiki/Bryan_Fogarty',\n",
       " 'direct.imagedepositgateway.com/sendpoint/',\n",
       " 'guardian.co.uk/football/2011/mar/27/international-friendly-brazil-scotland',\n",
       " 'en.wikipedia.org/wiki/Edward_L._Beach',\n",
       " 'linkedin.com/pub/dir/richard/geary',\n",
       " 'familytreeassistant.com/surnames/Carpenter-family-tree.html',\n",
       " 'http://rt.com/in-vision/nepal-earthquake-aftermath-ruins/nepal-besi-earthquake-dhading/',\n",
       " 'investing.businessweek.com/research/stocks/private/snapshot.asp?privcapId=857569',\n",
       " 'local.yahoo.com/info-14553240-ymca-fort-myers',\n",
       " 'http://web.de/magazine/unterhaltung/adel/royal-baby-2/daily-kate-augen-royalen-baby-bauch-30205922',\n",
       " 'isthisyour.name/directory/fullnames/ma~batten.htm',\n",
       " 'youtube.com/watch?v=mODdgpExRig',\n",
       " 'dirtyhippiesoaps.com/?p=ingredientkey.html',\n",
       " 'pul.se/Web-Rumblings-Buffalo-Bills-Links-12-29-Aaron-Carter-6ZW6eaHH8EZS',\n",
       " 'russmeyer.com/',\n",
       " 'hockeydb.com/ihdb/stats/pdisplay.php?pid=115417',\n",
       " 'bleacherreport.com/articles/895379-texas-football-5-things-we-learned-from-the-longhorns-loss-vs-oklahoma-state',\n",
       " 'usidentify.com/l/ehle',\n",
       " 'bellingram.co.uk/properties/sale?area=Argyll+%26+Bute',\n",
       " 'chacha.com/question/how-tall-is-john-mayberry-jr',\n",
       " 'classmates.com/directory/college/Le%20Moyne%20College?org=17044951',\n",
       " 'poptower.com/chelsea-peretti-picture-35640.htm',\n",
       " 'cduniverse.com/productinfo.asp?pid=7707999',\n",
       " 'vancouveradvertising.blogspot.com/',\n",
       " 'en.wikipedia.org/wiki/Lise_St-Denis',\n",
       " 'forums.corvetteforum.com/great-lakes/2935112-west-mich-covered-bridge-fallasburg-cruise-sat-oct-22-a.html',\n",
       " 'en.wikipedia.org/wiki/List_of_H_postal_codes_of_Canada',\n",
       " 'genforum.genealogy.com/wyatt/all.html',\n",
       " 'flyfreedomaircharter.com/',\n",
       " 'flickr.com/photos/caseymckinnon/3121023513/',\n",
       " 'pipl.com/directory/people/Beryl/Anthony',\n",
       " 'imdb.com/title/tt0409847/',\n",
       " 'stubhub.com/gilles-villeneuve-circuit-event-tickets/details/?venue_config_ID=7454',\n",
       " 'fightingsioux.com/',\n",
       " 'thesubversivesounds.blogspot.com/2007/02/buggs-beetle-beat.html',\n",
       " 'gamestats.com/objects/055/055042/',\n",
       " 'facebook.com/maryseouellet.83',\n",
       " 'videosurf.com/calcutta-india-242151',\n",
       " 'nikon.bungie.org/',\n",
       " 'facebook.com/KCURKansasCity',\n",
       " 'faqs.org/patents/app/20110047854',\n",
       " 'knac.com/article.asp?ArticleID=4653',\n",
       " 'lifeskate.com/skate/2010/09/nbc-sports-announces-2010-grand-prix-of-figure-skating-schedule.html',\n",
       " 'en-gb.facebook.com/matthew.mulligan',\n",
       " 'huskers.com/ViewArticle.dbml?DB_OEM_ID=100&ATCLID=68185',\n",
       " 'http://nguyentandung.org/vu-viec-tranh-go-sua-o-ha-noi-xu-ly-cham-do-doi-interpol-tra-loi.html',\n",
       " 'high-schools.com/schools/100696/notre-dame-de-sion.html',\n",
       " 'accesshollywood.com/denis-ohare',\n",
       " 'a2zyp.com/Government+Offices-County/NJ.php',\n",
       " 'http://gawker.com/report-north-korean-defense-minister-executed-for-slee-1704127405/module/',\n",
       " 'http://udn.com/news/story/7321/900837-%E9%AB%98%E9%9B%842%E8%AD%B0%E5%93%A1%E7%95%B6%E9%81%B8%E7%84%A1%E6%95%88%E4%B9%8B%E8%A8%B4-1%E5%AF%A9%E9%A7%81%E5%9B%9E',\n",
       " 'amazon.com/Asian-American-Actors-Histories-Television/dp/0786407301',\n",
       " 'en.wikipedia.org/wiki/Notre-Dame-de-Gr%C3%A2ce%E2%80%94Lachine',\n",
       " 'rentalboatcharters.com/264',\n",
       " 'wn.com/2011_IFAF_World_Cup',\n",
       " 'myspace.com/cinemalamour',\n",
       " 'rollingstone.com/rockdaily/index.php/2009/04/13/pearl-jam-beastie-boys-dave-matthews-band-headlining-san-franciscos-outside-lands-festival',\n",
       " '2.statcan.ca/census-recensement/2006/dp-pd/prof/92-595/p2c.cfm?TPL=INDX&LANG=E',\n",
       " 'blackle.com/',\n",
       " 'https://twitter.com/share?text=%D0%A4%D0%BE%D1%82%D0%BE%D0%BF%D0%BE%D0%B4%D0%B1%D0%BE%D1%80%D0%BA%D0%B0+%D0%B7%D0%B0+29.04.2015&url=http%3A%2F%2Ffishki.net%2Fphoto%2F1517170-fotopodborka-za-29042015.html%2Fgallery-1952358%2F',\n",
       " 'hobartcorp.com/Contact-Us/',\n",
       " 'ipesbd.com/',\n",
       " 'madhatters.me.uk/2010/03/07/sarah-phillips-autumn/',\n",
       " 'videosurf.com/wallace-beery-212797',\n",
       " 'cfreference.net/',\n",
       " 'linkedin.com/pub/janelle-rudie/a/330/a13',\n",
       " 'borealpress.com/',\n",
       " 'en.wikipedia.org/wiki/Ryan_(film)',\n",
       " 'http://kotaku.com/the-classic-pc-games-you-must-play-1246823468/1440923931/@kirkhamilton',\n",
       " 'usageorge.com/Wallpapers/Commercial/CHOM.html',\n",
       " 'http://atwiki.jp/wiki/%E3%83%89%E3%83%A9%E3%82%B4%E3%83%B3%E3%82%BA%E3%83%89%E3%82%B0%E3%83%9E%20%E3%81%8F%E3%81%88%E3%81%99%E3%81%A8',\n",
       " 'mpma28.com/page/page/2271350.htm',\n",
       " 'canadagazette.gc.ca/archives/p1/2002/2002-01-19/html/parliament-parlement-eng.html',\n",
       " 'en.wikipedia.org/wiki/KREV',\n",
       " 'answers.com/topic/joseph-o-neill',\n",
       " 'readerfeedback.labs.wikimedia.org/wiki/California_State_Route_78',\n",
       " 'yatedo.com/s/Linda+Lee',\n",
       " 'http://otomoto.pl/oferta/honda-jazz-jazz-1-2-klima-i-rej-05-2014-km-10-000-ID4pa1I9.html',\n",
       " 'motherboard.ie/',\n",
       " 'timesofindia.indiatimes.com/topic/Colin-Ferguson-(actor)',\n",
       " 'montreal.about.com/od/sportsrecreation/ss/olympic_divers_8.htm',\n",
       " 'edperformance.com/',\n",
       " 'port-montreal.com/',\n",
       " 'youtube.com/watch?v=d8IlHHK7oZ8',\n",
       " '4shared.com/audio/vhD02W-g/01_Hatenai_Sora.html',\n",
       " 'en.wikipedia.org/wiki/Category:Silent_films',\n",
       " 'morgancole.com/',\n",
       " ...]"
      ]
     },
     "execution_count": 370,
     "metadata": {},
     "output_type": "execute_result"
    }
   ],
   "source": [
    "b"
   ]
  },
  {
   "cell_type": "code",
   "execution_count": 371,
   "metadata": {},
   "outputs": [],
   "source": [
    "d ={}\n",
    "\n",
    "for i in b:\n",
    "    s = get_prediction_from_url(i)\n",
    "    if s in d:\n",
    "        d[s]+=1\n",
    "    else:\n",
    "        d[s]=1"
   ]
  },
  {
   "cell_type": "code",
   "execution_count": 373,
   "metadata": {},
   "outputs": [
    {
     "data": {
      "text/plain": [
       "{'SAFE': 414843, 'PHISHING': 4595, 'MALWARE': 8665}"
      ]
     },
     "execution_count": 373,
     "metadata": {},
     "output_type": "execute_result"
    }
   ],
   "source": [
    "d"
   ]
  },
  {
   "cell_type": "code",
   "execution_count": 410,
   "metadata": {},
   "outputs": [
    {
     "data": {
      "text/plain": [
       "'SAFE'"
      ]
     },
     "execution_count": 410,
     "metadata": {},
     "output_type": "execute_result"
    }
   ],
   "source": [
    "li = ['youtube.com/' , '1337x.com/']\n",
    "get_prediction_from_url(li[1])"
   ]
  }
 ],
 "metadata": {
  "kernelspec": {
   "display_name": "Python 3 (ipykernel)",
   "language": "python",
   "name": "python3"
  },
  "language_info": {
   "codemirror_mode": {
    "name": "ipython",
    "version": 3
   },
   "file_extension": ".py",
   "mimetype": "text/x-python",
   "name": "python",
   "nbconvert_exporter": "python",
   "pygments_lexer": "ipython3",
   "version": "3.11.0"
  }
 },
 "nbformat": 4,
 "nbformat_minor": 4
}
